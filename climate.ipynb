{
 "cells": [
  {
   "cell_type": "code",
   "execution_count": 588,
   "id": "2323b61092b94cfc",
   "metadata": {},
   "outputs": [],
   "source": [
    "# Анализ удовлетворенности клиентов. Исследование комфорта при работе климатического оборудования."
   ]
  },
  {
   "cell_type": "markdown",
   "id": "325510ee-e493-4a0f-9ed9-972585bc6f2d",
   "metadata": {},
   "source": [
    "## Описание проекта"
   ]
  },
  {
   "cell_type": "markdown",
   "id": "d8bd8c8f-6879-4b96-a740-67c09be3909b",
   "metadata": {},
   "source": [
    "### Поставленная задача"
   ]
  },
  {
   "cell_type": "markdown",
   "id": "f84c7ccb-e81f-4c37-8ad6-2fc1ccd43863",
   "metadata": {},
   "source": [
    "Проанализировать полученные данные и предоставить выводы о том, в какой тип климатического оборудования стоит инвестировать больше, чтобы повысить удовлетворенность клиентов созданными условиями в зависимости от региона? И на что стоит обратить внимание при развитии бизнеса в разных регионах?"
   ]
  },
  {
   "cell_type": "markdown",
   "id": "df12c88b-cc2d-467a-8d78-91b699f7ed1e",
   "metadata": {},
   "source": [
    "### Описание данных"
   ]
  },
  {
   "cell_type": "markdown",
   "id": "8cab6b3c-852e-42e6-8423-fe64004d123e",
   "metadata": {},
   "source": [
    "**Год** - Год проведения исследования<br>\n",
    "**Время года** - Весна, лето, осень, зима<br>\n",
    "**Климат** - Название типа климата<br> \n",
    "**Город** - Город, где было проведено исследование<br> \n",
    "**Страна** - Страна, где было проведено исследование<br>\n",
    "**Способ охлаждения**:<br>\n",
    "- **Кондиционирование** = может быть разных типов, окна закрыты.\n",
    "- **Вентиляция** = механические системы вентиляции и естественное охлаждение.\n",
    "- **Смешанный** = механическое охлаждение, окна могут быть как открыты, так и закрыты.\n",
    "- **NA** = не применимо, например исследование холодной зимой, когда включено отопление.\n",
    "  \n",
    "**Режим при смешанном типе охлаждения**:<br>\n",
    "- **NA** = здания, не относящиеся к смешанному типу.\n",
    "- **Кондиционер** = кондиционер включен, окна закрыты.\n",
    "- **Вентиляция** = кондиционер выключен, окна открыты/механическая\n",
    "\tвентиляция.\n",
    "\n",
    "**Способ обогрева**:\n",
    "- **Механическое отопление** = в здании имеется механическая система отопления (переносные обогреватели не считаются механическим отоплением на уровне здания).\n",
    "- **NA** = отсутствие механического отопления, неизвестно или исследование только в жаркую летнюю погоду.\n",
    "  \n",
    "**Возраст** - Возраст респондента<br>\n",
    "**Пол** - Пол респондента<br> \n",
    "**Ощущение температуры** - Оценка температуры по ощущениям: от -3 (холодно) до +3 (горячо)<br>\n",
    "**Ощущение температуры (bool)** - 0 = неприемлемо, 1 = приемлемо<br> \n",
    "**Предпочтительное изменение температуры** - Без изменений, теплее, холоднее<br> \n",
    "**Ощущение движения воздуха (bool)** - 0 = неприемлемо, 1 = приемлемо <br>\n",
    "**Предпочтительное изменение движения воздуха** - Меньше, без изменений, больше<br> \n",
    "**Оценка комфорта** - От 1 (очень неудобно) до 6 (очень комфортно) <br>\n",
    "**Утепление** - Фактор связанный с одеждой респондента<br> \n",
    "**Температура воздуха в помещении** - Измеренная температура в помещении<br> \n",
    "**Температура воздуха на улице** - Измеренная температура на улице <br>\n",
    "**RH** - Относительная влажность <br>\n",
    "**Скорость воздуха** - Скорость воздуха, м/с<br> \n",
    "**Рост** - Рост респондента<br>\n",
    "**Вес** - Вес респондента <br>\n",
    "**Занавески** - 0 = открыто, 1 = закрыто; если неизвестно - нет данных <br>\n",
    "**Вентилятор** - Режим вентилятора: 0 = выключен, 1 = включен; если неизвестно - нет данных<br> \n",
    "**Окно** - 0 = открыто, 1 = закрыто; если неизвестно - нет данных <br>\n",
    "**Двери** - 0 = открыты, 1 = закрыты; если неизвестно - нет данных<br>\n",
    "**Отопление** - Режим обогрева: 0 -выключен, 1 - включен; если неизвестно - нет данных<br> \n",
    "**Среднемесячная температура на улице** - Среднемесячная температура наружного воздуха на момент исследования, C.<br>\n",
    "**Количество рекламаций** - Количество жалоб на установленное оборудование, полученных от клиента, за прошедший период<br>"
   ]
  },
  {
   "cell_type": "markdown",
   "id": "38b02238-7983-4fdc-a302-05c1c0c12b2a",
   "metadata": {},
   "source": [
    "## Imports"
   ]
  },
  {
   "cell_type": "markdown",
   "id": "4d1fd52c-f8ae-461c-a89a-f2cd59112c48",
   "metadata": {},
   "source": [
    "### Скачивание библиотек"
   ]
  },
  {
   "cell_type": "code",
   "execution_count": 597,
   "id": "1eb606d0-3ec3-417e-8f16-aca433271af5",
   "metadata": {},
   "outputs": [
    {
     "name": "stdout",
     "output_type": "stream",
     "text": [
      "Requirement already satisfied: pandas in /opt/anaconda3/lib/python3.12/site-packages (2.2.2)\n",
      "Requirement already satisfied: numpy>=1.26.0 in /opt/anaconda3/lib/python3.12/site-packages (from pandas) (1.26.4)\n",
      "Requirement already satisfied: python-dateutil>=2.8.2 in /opt/anaconda3/lib/python3.12/site-packages (from pandas) (2.9.0.post0)\n",
      "Requirement already satisfied: pytz>=2020.1 in /opt/anaconda3/lib/python3.12/site-packages (from pandas) (2024.1)\n",
      "Requirement already satisfied: tzdata>=2022.7 in /opt/anaconda3/lib/python3.12/site-packages (from pandas) (2023.3)\n",
      "Requirement already satisfied: six>=1.5 in /opt/anaconda3/lib/python3.12/site-packages (from python-dateutil>=2.8.2->pandas) (1.16.0)\n",
      "Note: you may need to restart the kernel to use updated packages.\n"
     ]
    }
   ],
   "source": [
    "pip install pandas"
   ]
  },
  {
   "cell_type": "code",
   "execution_count": 598,
   "id": "26d68167-b283-4961-8bcf-081ad3951977",
   "metadata": {
    "scrolled": true
   },
   "outputs": [
    {
     "name": "stdout",
     "output_type": "stream",
     "text": [
      "Requirement already satisfied: numpy in /opt/anaconda3/lib/python3.12/site-packages (1.26.4)\n",
      "Note: you may need to restart the kernel to use updated packages.\n"
     ]
    }
   ],
   "source": [
    "pip install numpy"
   ]
  },
  {
   "cell_type": "code",
   "execution_count": 599,
   "id": "e6f9a216-b6d1-4d8d-a1d3-0c3bddf07123",
   "metadata": {
    "ExecuteTime": {
     "end_time": "2025-04-07T16:02:47.191787Z",
     "start_time": "2025-04-07T16:02:46.312603Z"
    }
   },
   "outputs": [
    {
     "name": "stdout",
     "output_type": "stream",
     "text": [
      "Requirement already satisfied: matplotlib in /opt/anaconda3/lib/python3.12/site-packages (3.9.2)\n",
      "Requirement already satisfied: contourpy>=1.0.1 in /opt/anaconda3/lib/python3.12/site-packages (from matplotlib) (1.2.0)\n",
      "Requirement already satisfied: cycler>=0.10 in /opt/anaconda3/lib/python3.12/site-packages (from matplotlib) (0.11.0)\n",
      "Requirement already satisfied: fonttools>=4.22.0 in /opt/anaconda3/lib/python3.12/site-packages (from matplotlib) (4.51.0)\n",
      "Requirement already satisfied: kiwisolver>=1.3.1 in /opt/anaconda3/lib/python3.12/site-packages (from matplotlib) (1.4.4)\n",
      "Requirement already satisfied: numpy>=1.23 in /opt/anaconda3/lib/python3.12/site-packages (from matplotlib) (1.26.4)\n",
      "Requirement already satisfied: packaging>=20.0 in /opt/anaconda3/lib/python3.12/site-packages (from matplotlib) (24.1)\n",
      "Requirement already satisfied: pillow>=8 in /opt/anaconda3/lib/python3.12/site-packages (from matplotlib) (10.4.0)\n",
      "Requirement already satisfied: pyparsing>=2.3.1 in /opt/anaconda3/lib/python3.12/site-packages (from matplotlib) (3.1.2)\n",
      "Requirement already satisfied: python-dateutil>=2.7 in /opt/anaconda3/lib/python3.12/site-packages (from matplotlib) (2.9.0.post0)\n",
      "Requirement already satisfied: six>=1.5 in /opt/anaconda3/lib/python3.12/site-packages (from python-dateutil>=2.7->matplotlib) (1.16.0)\n",
      "Note: you may need to restart the kernel to use updated packages.\n"
     ]
    }
   ],
   "source": [
    "pip install matplotlib"
   ]
  },
  {
   "cell_type": "code",
   "execution_count": 600,
   "id": "84c5f1f5-9089-4d21-8792-af02f7b4dcbb",
   "metadata": {
    "scrolled": true
   },
   "outputs": [
    {
     "name": "stdout",
     "output_type": "stream",
     "text": [
      "Requirement already satisfied: scipy in /opt/anaconda3/lib/python3.12/site-packages (1.13.1)\n",
      "Requirement already satisfied: numpy<2.3,>=1.22.4 in /opt/anaconda3/lib/python3.12/site-packages (from scipy) (1.26.4)\n",
      "Note: you may need to restart the kernel to use updated packages.\n"
     ]
    }
   ],
   "source": [
    "pip install scipy"
   ]
  },
  {
   "cell_type": "code",
   "execution_count": 601,
   "id": "9cdb3791-a621-47e9-a8cb-a705e6d15d55",
   "metadata": {
    "scrolled": true
   },
   "outputs": [
    {
     "name": "stdout",
     "output_type": "stream",
     "text": [
      "Requirement already satisfied: seaborn in /opt/anaconda3/lib/python3.12/site-packages (0.13.2)\n",
      "Requirement already satisfied: numpy!=1.24.0,>=1.20 in /opt/anaconda3/lib/python3.12/site-packages (from seaborn) (1.26.4)\n",
      "Requirement already satisfied: pandas>=1.2 in /opt/anaconda3/lib/python3.12/site-packages (from seaborn) (2.2.2)\n",
      "Requirement already satisfied: matplotlib!=3.6.1,>=3.4 in /opt/anaconda3/lib/python3.12/site-packages (from seaborn) (3.9.2)\n",
      "Requirement already satisfied: contourpy>=1.0.1 in /opt/anaconda3/lib/python3.12/site-packages (from matplotlib!=3.6.1,>=3.4->seaborn) (1.2.0)\n",
      "Requirement already satisfied: cycler>=0.10 in /opt/anaconda3/lib/python3.12/site-packages (from matplotlib!=3.6.1,>=3.4->seaborn) (0.11.0)\n",
      "Requirement already satisfied: fonttools>=4.22.0 in /opt/anaconda3/lib/python3.12/site-packages (from matplotlib!=3.6.1,>=3.4->seaborn) (4.51.0)\n",
      "Requirement already satisfied: kiwisolver>=1.3.1 in /opt/anaconda3/lib/python3.12/site-packages (from matplotlib!=3.6.1,>=3.4->seaborn) (1.4.4)\n",
      "Requirement already satisfied: packaging>=20.0 in /opt/anaconda3/lib/python3.12/site-packages (from matplotlib!=3.6.1,>=3.4->seaborn) (24.1)\n",
      "Requirement already satisfied: pillow>=8 in /opt/anaconda3/lib/python3.12/site-packages (from matplotlib!=3.6.1,>=3.4->seaborn) (10.4.0)\n",
      "Requirement already satisfied: pyparsing>=2.3.1 in /opt/anaconda3/lib/python3.12/site-packages (from matplotlib!=3.6.1,>=3.4->seaborn) (3.1.2)\n",
      "Requirement already satisfied: python-dateutil>=2.7 in /opt/anaconda3/lib/python3.12/site-packages (from matplotlib!=3.6.1,>=3.4->seaborn) (2.9.0.post0)\n",
      "Requirement already satisfied: pytz>=2020.1 in /opt/anaconda3/lib/python3.12/site-packages (from pandas>=1.2->seaborn) (2024.1)\n",
      "Requirement already satisfied: tzdata>=2022.7 in /opt/anaconda3/lib/python3.12/site-packages (from pandas>=1.2->seaborn) (2023.3)\n",
      "Requirement already satisfied: six>=1.5 in /opt/anaconda3/lib/python3.12/site-packages (from python-dateutil>=2.7->matplotlib!=3.6.1,>=3.4->seaborn) (1.16.0)\n",
      "Note: you may need to restart the kernel to use updated packages.\n"
     ]
    }
   ],
   "source": [
    "pip install seaborn"
   ]
  },
  {
   "cell_type": "code",
   "execution_count": 602,
   "id": "aa25af7c-b64a-4a83-ad06-50feb4dcfd55",
   "metadata": {},
   "outputs": [
    {
     "name": "stdout",
     "output_type": "stream",
     "text": [
      "Requirement already satisfied: scikit-learn in /opt/anaconda3/lib/python3.12/site-packages (1.6.1)\n",
      "Requirement already satisfied: numpy>=1.19.5 in /opt/anaconda3/lib/python3.12/site-packages (from scikit-learn) (1.26.4)\n",
      "Requirement already satisfied: scipy>=1.6.0 in /opt/anaconda3/lib/python3.12/site-packages (from scikit-learn) (1.13.1)\n",
      "Requirement already satisfied: joblib>=1.2.0 in /opt/anaconda3/lib/python3.12/site-packages (from scikit-learn) (1.4.2)\n",
      "Requirement already satisfied: threadpoolctl>=3.1.0 in /opt/anaconda3/lib/python3.12/site-packages (from scikit-learn) (3.5.0)\n",
      "Note: you may need to restart the kernel to use updated packages.\n"
     ]
    }
   ],
   "source": [
    "pip install -U scikit-learn"
   ]
  },
  {
   "cell_type": "markdown",
   "id": "4cb194ce-8e08-4e35-a873-4d3b433d0996",
   "metadata": {},
   "source": [
    "### Подключение библиотек"
   ]
  },
  {
   "cell_type": "code",
   "execution_count": 605,
   "id": "5f3a3497-65d3-4b81-906b-d24fb6e9d8a4",
   "metadata": {},
   "outputs": [],
   "source": [
    "import pandas as pd\n",
    "import numpy as np\n",
    "import matplotlib.pyplot as plt\n",
    "import seaborn as sns\n",
    "from scipy.stats import chi2_contingency, pearsonr, spearmanr, mannwhitneyu, ttest_ind, shapiro"
   ]
  },
  {
   "cell_type": "markdown",
   "id": "1defd6d7-b072-4a6c-9dcb-53f365e236a0",
   "metadata": {},
   "source": [
    "## Path"
   ]
  },
  {
   "cell_type": "code",
   "execution_count": 607,
   "id": "ff489da7-4709-4b8d-bf29-bdc067794b03",
   "metadata": {},
   "outputs": [],
   "source": [
    "MAIN_TABLE = 'data.csv'"
   ]
  },
  {
   "cell_type": "markdown",
   "id": "1215d31d-465b-4c6e-abfc-b2fd645d3fe9",
   "metadata": {},
   "source": [
    "## User functions"
   ]
  },
  {
   "cell_type": "code",
   "execution_count": 610,
   "id": "d17673a1-4088-4c64-81f6-2b708628a5d5",
   "metadata": {},
   "outputs": [],
   "source": [
    "class SeparatorError(Exception):\n",
    "    pass\n",
    "\n",
    "# чтение файла и работа над форматом PEP8 для названий столбцов\n",
    "def read_file(PATH):\n",
    "    encodes = ['utf-8', 'cp1251']\n",
    "    separators = [';', ',']\n",
    "    dcml = '.'\n",
    "    data = pd.DataFrame()\n",
    "    for encode in encodes:\n",
    "        for separator in separators:\n",
    "            try:\n",
    "                data = pd.read_csv(PATH, sep=separator, encoding=encode, decimal=dcml)\n",
    "                data.columns = data.columns.str.lower().str.replace(' ', '_')\n",
    "                if len(data.columns) == 1:\n",
    "                    raise SeparatorError\n",
    "                return data\n",
    "            except UnicodeError:\n",
    "                data = pd.DataFrame({'error': ['encoding']})\n",
    "            except SeparatorError:\n",
    "                data = pd.DataFrame({'error': ['separator']})\n",
    "            except FileNotFoundError:\n",
    "                data = pd.DataFrame({'error': ['file_path']})\n",
    "    return data"
   ]
  },
  {
   "cell_type": "code",
   "execution_count": 611,
   "id": "f33934fc-c46f-4585-ad50-42b55800d965",
   "metadata": {},
   "outputs": [],
   "source": [
    "# смена типа данных в столбцах(columns - словарь(key=название столбца, value - новый тип данных))\n",
    "def change_types(data, columns):\n",
    "    for key, val in columns.items():\n",
    "        try:\n",
    "            data[key] = data[key].astype(val)\n",
    "        except ValueError:\n",
    "            print('Ошибка при изменении типа данных в столбце с именем ', key)\n",
    "        except KeyError:\n",
    "            print('Возможно было неправильно указано название столбца', key)"
   ]
  },
  {
   "cell_type": "code",
   "execution_count": 613,
   "id": "5076fc7e-073f-4d86-be17-9bdd37f24fe4",
   "metadata": {},
   "outputs": [],
   "source": [
    "# вывод уникальных значений по столбцам\n",
    "def unique_values(data, columns):\n",
    "    print('###########')\n",
    "    print(*['\\n###########\\n'.join([column, '\\n'.join(data[column].unique())]) for column in columns], sep='\\n\\n###########\\n')"
   ]
  },
  {
   "cell_type": "code",
   "execution_count": 614,
   "id": "beff573e-6f73-4339-96e4-1bffbf4ff153",
   "metadata": {},
   "outputs": [],
   "source": [
    "# расчет корреляции между категориальном и количественным столбцом.\n",
    "def correlation_ratio(data, categories, values):\n",
    "    group = data.groupby(categories)[values]\n",
    "    counts = group.count()\n",
    "    group_means = group.mean()\n",
    "    mg = sum(counts * (group_means - data[values].mean()) ** 2)\n",
    "    vg = sum((data[values] - data[categories].map(group_means)) ** 2)\n",
    "    return np.sqrt(mg / (mg + vg))"
   ]
  },
  {
   "cell_type": "code",
   "execution_count": 615,
   "id": "03d3a931-6a31-4baa-ba65-febef637b0ad",
   "metadata": {},
   "outputs": [],
   "source": [
    "# расчет корреляции между категориальном и категориальным столбцом.\n",
    "def my_cramers(x, y):\n",
    "    data = pd.crosstab(x, y)\n",
    "    n = data.sum().sum()\n",
    "    theory = np.outer(data.values.sum(axis=1),\n",
    "                      data.values.sum(axis=0)) / n\n",
    "    chi2 = ((data.values - theory) ** 2 / theory).sum()\n",
    "    chi2 = chi2_contingency(data)[0]\n",
    "    r, c = data.values.shape\n",
    "    if min(r - 1, c - 1) == 0:\n",
    "        cramer = 0\n",
    "    else:\n",
    "        cramer = np.sqrt(chi2 / (n * min(r - 1, c - 1)))\n",
    "    return cramer"
   ]
  },
  {
   "cell_type": "code",
   "execution_count": 616,
   "id": "5f9bd40f-c27f-48ad-92e2-ab600810aaf2",
   "metadata": {},
   "outputs": [],
   "source": [
    "# columns - список названий столбцов, по которым будем строить ящик с усами.\n",
    "def boxplot_chart(data, columns):\n",
    "    for column in columns:\n",
    "        sns.boxplot(data, y=column)\n",
    "        plt.title(f'График ящик с усами для столбца {column}', loc='center')\n",
    "        plt.show()       "
   ]
  },
  {
   "cell_type": "markdown",
   "id": "079e40eb-1b8c-4728-8c6e-bcc930ab9b7c",
   "metadata": {},
   "source": [
    "## Preproccesing"
   ]
  },
  {
   "cell_type": "markdown",
   "id": "1836d656-e1f9-4ce2-bd50-d866e53f9b27",
   "metadata": {},
   "source": [
    "Чтение данных из файла и приведение названия столбцов в соответствии с PEP8"
   ]
  },
  {
   "cell_type": "code",
   "execution_count": 620,
   "id": "cfa1fe0a-cdef-4bf8-b2cd-0e296a1e025f",
   "metadata": {},
   "outputs": [
    {
     "data": {
      "text/plain": [
       "403     NaN\n",
       "153    35.0\n",
       "192    45.0\n",
       "133    65.0\n",
       "253    35.0\n",
       "30     28.0\n",
       "456    25.0\n",
       "387     NaN\n",
       "468    25.0\n",
       "332    45.0\n",
       "Name: возраст, dtype: float64"
      ]
     },
     "execution_count": 620,
     "metadata": {},
     "output_type": "execute_result"
    }
   ],
   "source": [
    "df = read_file(MAIN_TABLE)\n",
    "df['возраст'].sample(10)"
   ]
  },
  {
   "cell_type": "markdown",
   "id": "dd57dd7a-66ed-4f91-aa06-5fb535af408c",
   "metadata": {},
   "source": [
    "Проверим название столбцов"
   ]
  },
  {
   "cell_type": "code",
   "execution_count": 623,
   "id": "fdfbc408-4850-4cf2-aee3-467f87e5485b",
   "metadata": {},
   "outputs": [
    {
     "data": {
      "text/plain": [
       "Index(['год', 'время_года', 'климат', 'город', 'страна', 'способ_охлаждения',\n",
       "       'режим_при_смешанном_типе_охлаждения', 'способ_обогрева', 'возраст',\n",
       "       'пол', 'ощущение_температуры', 'ощущение_температуры_(bool)',\n",
       "       'предпочтительное_изменение_температуры',\n",
       "       'ощущение_движения_воздуха_(bool)',\n",
       "       'предпочтительное_изменение_движения_воздуха', 'оценка_комфорта',\n",
       "       'утепление', 'температура_воздуха_в_помещении',\n",
       "       'температура_воздуха_на_улице', 'rh', 'скорость_воздуха', 'рост', 'вес',\n",
       "       'занавески', 'вентилятор', 'окно', 'двери', 'отопление',\n",
       "       'среднемесячная_температура_на_улице', 'количество_рекламаций'],\n",
       "      dtype='object')"
      ]
     },
     "execution_count": 623,
     "metadata": {},
     "output_type": "execute_result"
    }
   ],
   "source": [
    "df.columns"
   ]
  },
  {
   "cell_type": "markdown",
   "id": "ed798f13-bd59-49f6-941b-2214959e73e3",
   "metadata": {},
   "source": [
    "Уберем лишнее"
   ]
  },
  {
   "cell_type": "code",
   "execution_count": 625,
   "id": "ea6c04ec-bd9c-455a-9fd8-655a6d404749",
   "metadata": {},
   "outputs": [
    {
     "data": {
      "text/plain": [
       "Index(['год', 'время_года', 'климат', 'город', 'страна', 'способ_охлаждения',\n",
       "       'режим_при_смешанном_типе_охлаждения', 'способ_обогрева', 'возраст',\n",
       "       'пол', 'ощущение_температуры', 'ощущение_температуры_bool',\n",
       "       'предпочтительное_изменение_температуры',\n",
       "       'ощущение_движения_воздуха_bool',\n",
       "       'предпочтительное_изменение_движения_воздуха', 'оценка_комфорта',\n",
       "       'утепление', 'температура_воздуха_в_помещении',\n",
       "       'температура_воздуха_на_улице', 'rh', 'скорость_воздуха', 'рост', 'вес',\n",
       "       'занавески', 'вентилятор', 'окно', 'двери', 'отопление',\n",
       "       'среднемесячная_температура_на_улице', 'количество_рекламаций'],\n",
       "      dtype='object')"
      ]
     },
     "execution_count": 625,
     "metadata": {},
     "output_type": "execute_result"
    }
   ],
   "source": [
    "df.columns = df.columns.str.replace('(', '').str.replace(')', '')\n",
    "df.columns"
   ]
  },
  {
   "cell_type": "markdown",
   "id": "b31d7d0c-8e9a-400b-ab81-826e351a16d9",
   "metadata": {},
   "source": [
    "Выведем информацию про каждый столбец"
   ]
  },
  {
   "cell_type": "code",
   "execution_count": 627,
   "id": "28cc914a-036d-4db5-8601-662274f1869a",
   "metadata": {
    "scrolled": true
   },
   "outputs": [
    {
     "name": "stdout",
     "output_type": "stream",
     "text": [
      "<class 'pandas.core.frame.DataFrame'>\n",
      "RangeIndex: 484 entries, 0 to 483\n",
      "Data columns (total 30 columns):\n",
      " #   Column                                       Non-Null Count  Dtype  \n",
      "---  ------                                       --------------  -----  \n",
      " 0   год                                          484 non-null    float64\n",
      " 1   время_года                                   484 non-null    object \n",
      " 2   климат                                       484 non-null    object \n",
      " 3   город                                        484 non-null    object \n",
      " 4   страна                                       484 non-null    object \n",
      " 5   способ_охлаждения                            484 non-null    object \n",
      " 6   режим_при_смешанном_типе_охлаждения          337 non-null    object \n",
      " 7   способ_обогрева                              222 non-null    object \n",
      " 8   возраст                                      413 non-null    float64\n",
      " 9   пол                                          412 non-null    object \n",
      " 10  ощущение_температуры                         484 non-null    float64\n",
      " 11  ощущение_температуры_bool                    484 non-null    float64\n",
      " 12  предпочтительное_изменение_температуры       484 non-null    object \n",
      " 13  ощущение_движения_воздуха_bool               198 non-null    float64\n",
      " 14  предпочтительное_изменение_движения_воздуха  484 non-null    object \n",
      " 15  оценка_комфорта                              215 non-null    float64\n",
      " 16  утепление                                    484 non-null    float64\n",
      " 17  температура_воздуха_в_помещении              484 non-null    float64\n",
      " 18  температура_воздуха_на_улице                 72 non-null     float64\n",
      " 19  rh                                           484 non-null    float64\n",
      " 20  скорость_воздуха                             484 non-null    float64\n",
      " 21  рост                                         143 non-null    float64\n",
      " 22  вес                                          214 non-null    float64\n",
      " 23  занавески                                    72 non-null     float64\n",
      " 24  вентилятор                                   146 non-null    float64\n",
      " 25  окно                                         279 non-null    float64\n",
      " 26  двери                                        157 non-null    float64\n",
      " 27  отопление                                    79 non-null     float64\n",
      " 28  среднемесячная_температура_на_улице          484 non-null    float64\n",
      " 29  количество_рекламаций                        484 non-null    int64  \n",
      "dtypes: float64(19), int64(1), object(10)\n",
      "memory usage: 113.6+ KB\n"
     ]
    }
   ],
   "source": [
    "df.info()"
   ]
  },
  {
   "cell_type": "code",
   "execution_count": 636,
   "id": "1e054e99-1135-42d8-8e44-178dfb8305fb",
   "metadata": {
    "scrolled": true
   },
   "outputs": [
    {
     "name": "stdout",
     "output_type": "stream",
     "text": [
      "<class 'pandas.core.frame.DataFrame'>\n",
      "RangeIndex: 484 entries, 0 to 483\n",
      "Data columns (total 30 columns):\n",
      " #   Column                                       Non-Null Count  Dtype  \n",
      "---  ------                                       --------------  -----  \n",
      " 0   год                                          484 non-null    int64  \n",
      " 1   время_года                                   484 non-null    object \n",
      " 2   климат                                       484 non-null    object \n",
      " 3   город                                        484 non-null    object \n",
      " 4   страна                                       484 non-null    object \n",
      " 5   способ_охлаждения                            484 non-null    object \n",
      " 6   режим_при_смешанном_типе_охлаждения          337 non-null    object \n",
      " 7   способ_обогрева                              222 non-null    object \n",
      " 8   возраст                                      413 non-null    float64\n",
      " 9   пол                                          412 non-null    object \n",
      " 10  ощущение_температуры                         484 non-null    float64\n",
      " 11  ощущение_температуры_bool                    484 non-null    bool   \n",
      " 12  предпочтительное_изменение_температуры       484 non-null    object \n",
      " 13  ощущение_движения_воздуха_bool               484 non-null    bool   \n",
      " 14  предпочтительное_изменение_движения_воздуха  484 non-null    object \n",
      " 15  оценка_комфорта                              215 non-null    float64\n",
      " 16  утепление                                    484 non-null    float64\n",
      " 17  температура_воздуха_в_помещении              484 non-null    float64\n",
      " 18  температура_воздуха_на_улице                 72 non-null     float64\n",
      " 19  rh                                           484 non-null    float64\n",
      " 20  скорость_воздуха                             484 non-null    float64\n",
      " 21  рост                                         143 non-null    float64\n",
      " 22  вес                                          214 non-null    float64\n",
      " 23  занавески                                    484 non-null    bool   \n",
      " 24  вентилятор                                   484 non-null    bool   \n",
      " 25  окно                                         484 non-null    bool   \n",
      " 26  двери                                        484 non-null    bool   \n",
      " 27  отопление                                    484 non-null    bool   \n",
      " 28  среднемесячная_температура_на_улице          484 non-null    float64\n",
      " 29  количество_рекламаций                        484 non-null    int64  \n",
      "dtypes: bool(7), float64(11), int64(2), object(10)\n",
      "memory usage: 90.4+ KB\n"
     ]
    }
   ],
   "source": [
    "columns = {'год': int, 'возраст': float, 'ощущение_температуры': float, 'ощущение_температуры_bool': bool, \n",
    "           'ощущение_движения_воздуха_bool': bool, 'оценка_комфорта': float, 'утепление': float,\n",
    "           'температура_воздуха_в_помещении': float, 'температура_воздуха_на_улице': float,\n",
    "           'rh': float, 'скорость_воздуха': float, 'рост': float, 'вес': float, 'занавески': bool,\n",
    "           'вентилятор': bool, 'окно': bool, 'двери': bool, 'отопление': bool, 'среднемесячная_температура_на_улице': float}\n",
    "change_types(df, columns)\n",
    "df.info()"
   ]
  },
  {
   "cell_type": "markdown",
   "id": "3b59e554-9742-4a50-8ac8-8c0249b48ccd",
   "metadata": {},
   "source": [
    "Пока не заполнили пропуски в возрасте, его преобразовывать в int нельзя. После заполнения нужно про это вспомнить и изменить."
   ]
  },
  {
   "cell_type": "markdown",
   "id": "a54316fd-66c9-4e04-9168-41006caffe40",
   "metadata": {},
   "source": [
    "Посмотрим описательную статистику для количественных типов данных"
   ]
  },
  {
   "cell_type": "code",
   "execution_count": 645,
   "id": "f2ee57d2-5418-4b33-98c8-debb441cd07f",
   "metadata": {},
   "outputs": [
    {
     "data": {
      "text/html": [
       "<div>\n",
       "<style scoped>\n",
       "    .dataframe tbody tr th:only-of-type {\n",
       "        vertical-align: middle;\n",
       "    }\n",
       "\n",
       "    .dataframe tbody tr th {\n",
       "        vertical-align: top;\n",
       "    }\n",
       "\n",
       "    .dataframe thead th {\n",
       "        text-align: right;\n",
       "    }\n",
       "</style>\n",
       "<table border=\"1\" class=\"dataframe\">\n",
       "  <thead>\n",
       "    <tr style=\"text-align: right;\">\n",
       "      <th></th>\n",
       "      <th>год</th>\n",
       "      <th>возраст</th>\n",
       "      <th>ощущение_температуры</th>\n",
       "      <th>ощущение_температуры_bool</th>\n",
       "      <th>ощущение_движения_воздуха_bool</th>\n",
       "      <th>оценка_комфорта</th>\n",
       "      <th>утепление</th>\n",
       "      <th>температура_воздуха_в_помещении</th>\n",
       "      <th>температура_воздуха_на_улице</th>\n",
       "      <th>rh</th>\n",
       "      <th>скорость_воздуха</th>\n",
       "      <th>рост</th>\n",
       "      <th>вес</th>\n",
       "      <th>занавески</th>\n",
       "      <th>вентилятор</th>\n",
       "      <th>окно</th>\n",
       "      <th>двери</th>\n",
       "      <th>отопление</th>\n",
       "      <th>среднемесячная_температура_на_улице</th>\n",
       "      <th>количество_рекламаций</th>\n",
       "    </tr>\n",
       "  </thead>\n",
       "  <tbody>\n",
       "    <tr>\n",
       "      <th>count</th>\n",
       "      <td>484.000000</td>\n",
       "      <td>413.000000</td>\n",
       "      <td>484.000000</td>\n",
       "      <td>484</td>\n",
       "      <td>484</td>\n",
       "      <td>215.000000</td>\n",
       "      <td>484.000000</td>\n",
       "      <td>484.000000</td>\n",
       "      <td>72.000000</td>\n",
       "      <td>484.000000</td>\n",
       "      <td>484.000000</td>\n",
       "      <td>143.000000</td>\n",
       "      <td>214.000000</td>\n",
       "      <td>484</td>\n",
       "      <td>484</td>\n",
       "      <td>484</td>\n",
       "      <td>484</td>\n",
       "      <td>484</td>\n",
       "      <td>484.000000</td>\n",
       "      <td>484.000000</td>\n",
       "    </tr>\n",
       "    <tr>\n",
       "      <th>unique</th>\n",
       "      <td>NaN</td>\n",
       "      <td>NaN</td>\n",
       "      <td>NaN</td>\n",
       "      <td>2</td>\n",
       "      <td>2</td>\n",
       "      <td>NaN</td>\n",
       "      <td>NaN</td>\n",
       "      <td>NaN</td>\n",
       "      <td>NaN</td>\n",
       "      <td>NaN</td>\n",
       "      <td>NaN</td>\n",
       "      <td>NaN</td>\n",
       "      <td>NaN</td>\n",
       "      <td>2</td>\n",
       "      <td>2</td>\n",
       "      <td>2</td>\n",
       "      <td>2</td>\n",
       "      <td>2</td>\n",
       "      <td>NaN</td>\n",
       "      <td>NaN</td>\n",
       "    </tr>\n",
       "    <tr>\n",
       "      <th>top</th>\n",
       "      <td>NaN</td>\n",
       "      <td>NaN</td>\n",
       "      <td>NaN</td>\n",
       "      <td>True</td>\n",
       "      <td>True</td>\n",
       "      <td>NaN</td>\n",
       "      <td>NaN</td>\n",
       "      <td>NaN</td>\n",
       "      <td>NaN</td>\n",
       "      <td>NaN</td>\n",
       "      <td>NaN</td>\n",
       "      <td>NaN</td>\n",
       "      <td>NaN</td>\n",
       "      <td>True</td>\n",
       "      <td>True</td>\n",
       "      <td>True</td>\n",
       "      <td>True</td>\n",
       "      <td>True</td>\n",
       "      <td>NaN</td>\n",
       "      <td>NaN</td>\n",
       "    </tr>\n",
       "    <tr>\n",
       "      <th>freq</th>\n",
       "      <td>NaN</td>\n",
       "      <td>NaN</td>\n",
       "      <td>NaN</td>\n",
       "      <td>382</td>\n",
       "      <td>435</td>\n",
       "      <td>NaN</td>\n",
       "      <td>NaN</td>\n",
       "      <td>NaN</td>\n",
       "      <td>NaN</td>\n",
       "      <td>NaN</td>\n",
       "      <td>NaN</td>\n",
       "      <td>NaN</td>\n",
       "      <td>NaN</td>\n",
       "      <td>449</td>\n",
       "      <td>415</td>\n",
       "      <td>274</td>\n",
       "      <td>356</td>\n",
       "      <td>467</td>\n",
       "      <td>NaN</td>\n",
       "      <td>NaN</td>\n",
       "    </tr>\n",
       "    <tr>\n",
       "      <th>mean</th>\n",
       "      <td>2011.033058</td>\n",
       "      <td>40.634383</td>\n",
       "      <td>0.203306</td>\n",
       "      <td>NaN</td>\n",
       "      <td>NaN</td>\n",
       "      <td>4.772093</td>\n",
       "      <td>0.634587</td>\n",
       "      <td>26.072107</td>\n",
       "      <td>24.104167</td>\n",
       "      <td>52.973760</td>\n",
       "      <td>0.760558</td>\n",
       "      <td>164.411678</td>\n",
       "      <td>65.471963</td>\n",
       "      <td>NaN</td>\n",
       "      <td>NaN</td>\n",
       "      <td>NaN</td>\n",
       "      <td>NaN</td>\n",
       "      <td>NaN</td>\n",
       "      <td>27.389669</td>\n",
       "      <td>0.105372</td>\n",
       "    </tr>\n",
       "    <tr>\n",
       "      <th>std</th>\n",
       "      <td>0.922988</td>\n",
       "      <td>11.001301</td>\n",
       "      <td>1.091976</td>\n",
       "      <td>NaN</td>\n",
       "      <td>NaN</td>\n",
       "      <td>1.261161</td>\n",
       "      <td>0.253103</td>\n",
       "      <td>7.681363</td>\n",
       "      <td>0.604546</td>\n",
       "      <td>13.036204</td>\n",
       "      <td>4.921106</td>\n",
       "      <td>21.273235</td>\n",
       "      <td>11.574079</td>\n",
       "      <td>NaN</td>\n",
       "      <td>NaN</td>\n",
       "      <td>NaN</td>\n",
       "      <td>NaN</td>\n",
       "      <td>NaN</td>\n",
       "      <td>19.469562</td>\n",
       "      <td>0.440276</td>\n",
       "    </tr>\n",
       "    <tr>\n",
       "      <th>min</th>\n",
       "      <td>2010.000000</td>\n",
       "      <td>22.000000</td>\n",
       "      <td>-3.000000</td>\n",
       "      <td>NaN</td>\n",
       "      <td>NaN</td>\n",
       "      <td>1.000000</td>\n",
       "      <td>0.360000</td>\n",
       "      <td>16.200000</td>\n",
       "      <td>22.800000</td>\n",
       "      <td>23.800000</td>\n",
       "      <td>0.000000</td>\n",
       "      <td>5.230000</td>\n",
       "      <td>42.000000</td>\n",
       "      <td>NaN</td>\n",
       "      <td>NaN</td>\n",
       "      <td>NaN</td>\n",
       "      <td>NaN</td>\n",
       "      <td>NaN</td>\n",
       "      <td>8.500000</td>\n",
       "      <td>0.000000</td>\n",
       "    </tr>\n",
       "    <tr>\n",
       "      <th>25%</th>\n",
       "      <td>2010.000000</td>\n",
       "      <td>35.000000</td>\n",
       "      <td>0.000000</td>\n",
       "      <td>NaN</td>\n",
       "      <td>NaN</td>\n",
       "      <td>4.000000</td>\n",
       "      <td>0.460000</td>\n",
       "      <td>23.800000</td>\n",
       "      <td>23.800000</td>\n",
       "      <td>42.775000</td>\n",
       "      <td>0.060000</td>\n",
       "      <td>160.000000</td>\n",
       "      <td>57.000000</td>\n",
       "      <td>NaN</td>\n",
       "      <td>NaN</td>\n",
       "      <td>NaN</td>\n",
       "      <td>NaN</td>\n",
       "      <td>NaN</td>\n",
       "      <td>22.000000</td>\n",
       "      <td>0.000000</td>\n",
       "    </tr>\n",
       "    <tr>\n",
       "      <th>50%</th>\n",
       "      <td>2011.000000</td>\n",
       "      <td>42.000000</td>\n",
       "      <td>0.000000</td>\n",
       "      <td>NaN</td>\n",
       "      <td>NaN</td>\n",
       "      <td>5.000000</td>\n",
       "      <td>0.590000</td>\n",
       "      <td>24.600000</td>\n",
       "      <td>24.100000</td>\n",
       "      <td>53.750000</td>\n",
       "      <td>0.100000</td>\n",
       "      <td>165.100000</td>\n",
       "      <td>65.000000</td>\n",
       "      <td>NaN</td>\n",
       "      <td>NaN</td>\n",
       "      <td>NaN</td>\n",
       "      <td>NaN</td>\n",
       "      <td>NaN</td>\n",
       "      <td>22.000000</td>\n",
       "      <td>0.000000</td>\n",
       "    </tr>\n",
       "    <tr>\n",
       "      <th>75%</th>\n",
       "      <td>2012.000000</td>\n",
       "      <td>45.000000</td>\n",
       "      <td>1.000000</td>\n",
       "      <td>NaN</td>\n",
       "      <td>NaN</td>\n",
       "      <td>6.000000</td>\n",
       "      <td>0.700000</td>\n",
       "      <td>25.900000</td>\n",
       "      <td>24.400000</td>\n",
       "      <td>62.325000</td>\n",
       "      <td>0.140000</td>\n",
       "      <td>172.700000</td>\n",
       "      <td>72.750000</td>\n",
       "      <td>NaN</td>\n",
       "      <td>NaN</td>\n",
       "      <td>NaN</td>\n",
       "      <td>NaN</td>\n",
       "      <td>NaN</td>\n",
       "      <td>30.800000</td>\n",
       "      <td>0.000000</td>\n",
       "    </tr>\n",
       "    <tr>\n",
       "      <th>max</th>\n",
       "      <td>2012.000000</td>\n",
       "      <td>65.000000</td>\n",
       "      <td>3.000000</td>\n",
       "      <td>NaN</td>\n",
       "      <td>NaN</td>\n",
       "      <td>6.000000</td>\n",
       "      <td>2.080000</td>\n",
       "      <td>77.000000</td>\n",
       "      <td>25.900000</td>\n",
       "      <td>85.100000</td>\n",
       "      <td>63.830000</td>\n",
       "      <td>190.500000</td>\n",
       "      <td>110.000000</td>\n",
       "      <td>NaN</td>\n",
       "      <td>NaN</td>\n",
       "      <td>NaN</td>\n",
       "      <td>NaN</td>\n",
       "      <td>NaN</td>\n",
       "      <td>328.000000</td>\n",
       "      <td>3.000000</td>\n",
       "    </tr>\n",
       "  </tbody>\n",
       "</table>\n",
       "</div>"
      ],
      "text/plain": [
       "                год     возраст  ощущение_температуры  \\\n",
       "count    484.000000  413.000000            484.000000   \n",
       "unique          NaN         NaN                   NaN   \n",
       "top             NaN         NaN                   NaN   \n",
       "freq            NaN         NaN                   NaN   \n",
       "mean    2011.033058   40.634383              0.203306   \n",
       "std        0.922988   11.001301              1.091976   \n",
       "min     2010.000000   22.000000             -3.000000   \n",
       "25%     2010.000000   35.000000              0.000000   \n",
       "50%     2011.000000   42.000000              0.000000   \n",
       "75%     2012.000000   45.000000              1.000000   \n",
       "max     2012.000000   65.000000              3.000000   \n",
       "\n",
       "       ощущение_температуры_bool ощущение_движения_воздуха_bool  \\\n",
       "count                        484                            484   \n",
       "unique                         2                              2   \n",
       "top                         True                           True   \n",
       "freq                         382                            435   \n",
       "mean                         NaN                            NaN   \n",
       "std                          NaN                            NaN   \n",
       "min                          NaN                            NaN   \n",
       "25%                          NaN                            NaN   \n",
       "50%                          NaN                            NaN   \n",
       "75%                          NaN                            NaN   \n",
       "max                          NaN                            NaN   \n",
       "\n",
       "        оценка_комфорта   утепление  температура_воздуха_в_помещении  \\\n",
       "count        215.000000  484.000000                       484.000000   \n",
       "unique              NaN         NaN                              NaN   \n",
       "top                 NaN         NaN                              NaN   \n",
       "freq                NaN         NaN                              NaN   \n",
       "mean           4.772093    0.634587                        26.072107   \n",
       "std            1.261161    0.253103                         7.681363   \n",
       "min            1.000000    0.360000                        16.200000   \n",
       "25%            4.000000    0.460000                        23.800000   \n",
       "50%            5.000000    0.590000                        24.600000   \n",
       "75%            6.000000    0.700000                        25.900000   \n",
       "max            6.000000    2.080000                        77.000000   \n",
       "\n",
       "        температура_воздуха_на_улице          rh  скорость_воздуха  \\\n",
       "count                      72.000000  484.000000        484.000000   \n",
       "unique                           NaN         NaN               NaN   \n",
       "top                              NaN         NaN               NaN   \n",
       "freq                             NaN         NaN               NaN   \n",
       "mean                       24.104167   52.973760          0.760558   \n",
       "std                         0.604546   13.036204          4.921106   \n",
       "min                        22.800000   23.800000          0.000000   \n",
       "25%                        23.800000   42.775000          0.060000   \n",
       "50%                        24.100000   53.750000          0.100000   \n",
       "75%                        24.400000   62.325000          0.140000   \n",
       "max                        25.900000   85.100000         63.830000   \n",
       "\n",
       "              рост         вес занавески вентилятор  окно двери отопление  \\\n",
       "count   143.000000  214.000000       484        484   484   484       484   \n",
       "unique         NaN         NaN         2          2     2     2         2   \n",
       "top            NaN         NaN      True       True  True  True      True   \n",
       "freq           NaN         NaN       449        415   274   356       467   \n",
       "mean    164.411678   65.471963       NaN        NaN   NaN   NaN       NaN   \n",
       "std      21.273235   11.574079       NaN        NaN   NaN   NaN       NaN   \n",
       "min       5.230000   42.000000       NaN        NaN   NaN   NaN       NaN   \n",
       "25%     160.000000   57.000000       NaN        NaN   NaN   NaN       NaN   \n",
       "50%     165.100000   65.000000       NaN        NaN   NaN   NaN       NaN   \n",
       "75%     172.700000   72.750000       NaN        NaN   NaN   NaN       NaN   \n",
       "max     190.500000  110.000000       NaN        NaN   NaN   NaN       NaN   \n",
       "\n",
       "        среднемесячная_температура_на_улице  количество_рекламаций  \n",
       "count                            484.000000             484.000000  \n",
       "unique                                  NaN                    NaN  \n",
       "top                                     NaN                    NaN  \n",
       "freq                                    NaN                    NaN  \n",
       "mean                              27.389669               0.105372  \n",
       "std                               19.469562               0.440276  \n",
       "min                                8.500000               0.000000  \n",
       "25%                               22.000000               0.000000  \n",
       "50%                               22.000000               0.000000  \n",
       "75%                               30.800000               0.000000  \n",
       "max                              328.000000               3.000000  "
      ]
     },
     "execution_count": 645,
     "metadata": {},
     "output_type": "execute_result"
    }
   ],
   "source": [
    "df.describe(exclude=object)"
   ]
  },
  {
   "cell_type": "markdown",
   "id": "bb410cd1-0616-45ac-ae5a-bd95e70ebb86",
   "metadata": {},
   "source": [
    "Посмотрим ящики с усами для всех интересующих нас количественных столбцов для выявления возможных выбросов."
   ]
  },
  {
   "cell_type": "code",
   "execution_count": 648,
   "id": "93068c37-d8e2-4e61-90ee-2a88a07a59f4",
   "metadata": {},
   "outputs": [
    {
     "data": {
      "image/png": "[encoded data removed]",
      "text/plain": [
       "<Figure size 640x480 with 1 Axes>"
      ]
     },
     "metadata": {},
     "output_type": "display_data"
    },
    {
     "data": {
      "image/png": "[encoded data removed]",
      "text/plain": [
       "<Figure size 640x480 with 1 Axes>"
      ]
     },
     "metadata": {},
     "output_type": "display_data"
    },
    {
     "data": {
      "image/png": "[encoded data removed]",
      "text/plain": [
       "<Figure size 640x480 with 1 Axes>"
      ]
     },
     "metadata": {},
     "output_type": "display_data"
    },
    {
     "data": {
      "image/png": "[encoded data removed]",
      "text/plain": [
       "<Figure size 640x480 with 1 Axes>"
      ]
     },
     "metadata": {},
     "output_type": "display_data"
    },
    {
     "data": {
      "image/png": "[encoded data removed]",
      "text/plain": [
       "<Figure size 640x480 with 1 Axes>"
      ]
     },
     "metadata": {},
     "output_type": "display_data"
    },
    {
     "data": {
      "image/png": "[encoded data removed]",
      "text/plain": [
       "<Figure size 640x480 with 1 Axes>"
      ]
     },
     "metadata": {},
     "output_type": "display_data"
    },
    {
     "data": {
      "image/png": "[encoded data removed]",
      "text/plain": [
       "<Figure size 640x480 with 1 Axes>"
      ]
     },
     "metadata": {},
     "output_type": "display_data"
    },
    {
     "data": {
      "image/png": "[encoded data removed]",
      "text/plain": [
       "<Figure size 640x480 with 1 Axes>"
      ]
     },
     "metadata": {},
     "output_type": "display_data"
    },
    {
     "data": {
      "image/png": "[encoded data removed]",
      "text/plain": [
       "<Figure size 640x480 with 1 Axes>"
      ]
     },
     "metadata": {},
     "output_type": "display_data"
    },
    {
     "data": {
      "image/png": "[encoded data removed]",
      "text/plain": [
       "<Figure size 640x480 with 1 Axes>"
      ]
     },
     "metadata": {},
     "output_type": "display_data"
    },
    {
     "data": {
      "image/png": "[encoded data removed]",
      "text/plain": [
       "<Figure size 640x480 with 1 Axes>"
      ]
     },
     "metadata": {},
     "output_type": "display_data"
    },
    {
     "data": {
      "image/png": "[encoded data removed]",
      "text/plain": [
       "<Figure size 640x480 with 1 Axes>"
      ]
     },
     "metadata": {},
     "output_type": "display_data"
    }
   ],
   "source": [
    "columns = ['год', 'возраст', 'ощущение_температуры', 'оценка_комфорта', 'утепление', 'температура_воздуха_в_помещении',\n",
    "           'температура_воздуха_на_улице', 'rh', 'скорость_воздуха', 'рост', 'вес', 'среднемесячная_температура_на_улице']\n",
    "boxplot_chart(df, columns)"
   ]
  },
  {
   "cell_type": "code",
   "execution_count": 649,
   "id": "d7815aac-f4aa-4f0d-b685-b24b5e6254a4",
   "metadata": {},
   "outputs": [
    {
     "data": {
      "text/plain": [
       "Index(['год', 'время_года', 'климат', 'город', 'страна', 'способ_охлаждения',\n",
       "       'режим_при_смешанном_типе_охлаждения', 'способ_обогрева', 'возраст',\n",
       "       'пол', 'ощущение_температуры', 'ощущение_температуры_bool',\n",
       "       'предпочтительное_изменение_температуры',\n",
       "       'ощущение_движения_воздуха_bool',\n",
       "       'предпочтительное_изменение_движения_воздуха', 'оценка_комфорта',\n",
       "       'утепление', 'температура_воздуха_в_помещении',\n",
       "       'температура_воздуха_на_улице', 'rh', 'скорость_воздуха', 'рост', 'вес',\n",
       "       'занавески', 'вентилятор', 'окно', 'двери', 'отопление',\n",
       "       'среднемесячная_температура_на_улице', 'количество_рекламаций'],\n",
       "      dtype='object')"
      ]
     },
     "execution_count": 649,
     "metadata": {},
     "output_type": "execute_result"
    }
   ],
   "source": [
    "df.columns"
   ]
  },
  {
   "cell_type": "markdown",
   "id": "86a284bb-e7d6-4457-b931-bc03b43ef879",
   "metadata": {},
   "source": [
    "Сделаем выводы по этим графикам: <br>\n",
    "- со столбцом год все нормально.\n",
    "- со столбцом возраст все нормально.\n",
    "- к столбцу ощущение_температуры есть вопросы. Взглянем на строки, где встретились выбросы.\n",
    "- со столбцом оценка_комфорта выбросов не наблюдаем, по значениям будет обговорено позже.\n",
    "- со стобцом утепление нужно разобраться, разобьем его на группы по временам года и посмотрим график.\n",
    "- со столбцом температура_воздуха_в_помещении нужно разобраться почему присутствуют выбросы. Скорее всего связано со спецификой работы.\n",
    "- со столбцом температура_воздуха_на_улице все нормально.\n",
    "- со столбцом rh на первый взгляд все нормально.\n",
    "- к столбцу скорость_воздуха есть вопросы. Очень странные выбросы.\n",
    "- к столбцу рост есть вопросы. Посмотрим почему возникли выбросы и разрешим эту проблему.\n",
    "- со столбцом вес все нормально.(Не можем утверждать, что присутствуют выбросы)\n",
    "- со столбцом среднемесячная_температура_на_улице проблемы. Рассмотрим строки с этими значениями более подробно."
   ]
  },
  {
   "cell_type": "code",
   "execution_count": 653,
   "id": "3625cd7a-0e95-497e-a1e4-590c84d6ad9e",
   "metadata": {},
   "outputs": [
    {
     "data": {
      "text/html": [
       "<div>\n",
       "<style scoped>\n",
       "    .dataframe tbody tr th:only-of-type {\n",
       "        vertical-align: middle;\n",
       "    }\n",
       "\n",
       "    .dataframe tbody tr th {\n",
       "        vertical-align: top;\n",
       "    }\n",
       "\n",
       "    .dataframe thead th {\n",
       "        text-align: right;\n",
       "    }\n",
       "</style>\n",
       "<table border=\"1\" class=\"dataframe\">\n",
       "  <thead>\n",
       "    <tr style=\"text-align: right;\">\n",
       "      <th></th>\n",
       "      <th>климат</th>\n",
       "      <th>время_года</th>\n",
       "      <th>страна</th>\n",
       "      <th>ощущение_температуры</th>\n",
       "      <th>температура_воздуха_на_улице</th>\n",
       "      <th>температура_воздуха_в_помещении</th>\n",
       "      <th>среднемесячная_температура_на_улице</th>\n",
       "    </tr>\n",
       "  </thead>\n",
       "  <tbody>\n",
       "    <tr>\n",
       "      <th>350</th>\n",
       "      <td>Тропическая влажная саванна</td>\n",
       "      <td>Весна</td>\n",
       "      <td>Индия</td>\n",
       "      <td>-3.0</td>\n",
       "      <td>NaN</td>\n",
       "      <td>26.6</td>\n",
       "      <td>30.4</td>\n",
       "    </tr>\n",
       "    <tr>\n",
       "      <th>413</th>\n",
       "      <td>Тропическая влажная саванна</td>\n",
       "      <td>Весна</td>\n",
       "      <td>Индия</td>\n",
       "      <td>3.0</td>\n",
       "      <td>NaN</td>\n",
       "      <td>25.5</td>\n",
       "      <td>30.4</td>\n",
       "    </tr>\n",
       "    <tr>\n",
       "      <th>410</th>\n",
       "      <td>Тропическая влажная саванна</td>\n",
       "      <td>Осень</td>\n",
       "      <td>Индия</td>\n",
       "      <td>3.0</td>\n",
       "      <td>NaN</td>\n",
       "      <td>25.9</td>\n",
       "      <td>29.7</td>\n",
       "    </tr>\n",
       "    <tr>\n",
       "      <th>406</th>\n",
       "      <td>Влажный субтропический муссонный</td>\n",
       "      <td>Лето</td>\n",
       "      <td>Индия</td>\n",
       "      <td>3.0</td>\n",
       "      <td>NaN</td>\n",
       "      <td>37.1</td>\n",
       "      <td>30.9</td>\n",
       "    </tr>\n",
       "    <tr>\n",
       "      <th>401</th>\n",
       "      <td>Жаркий полузасушливый</td>\n",
       "      <td>Осень</td>\n",
       "      <td>Индия</td>\n",
       "      <td>3.0</td>\n",
       "      <td>NaN</td>\n",
       "      <td>30.1</td>\n",
       "      <td>25.7</td>\n",
       "    </tr>\n",
       "    <tr>\n",
       "      <th>395</th>\n",
       "      <td>Субтропическое высокогорье</td>\n",
       "      <td>Зима</td>\n",
       "      <td>Индия</td>\n",
       "      <td>3.0</td>\n",
       "      <td>NaN</td>\n",
       "      <td>20.2</td>\n",
       "      <td>8.5</td>\n",
       "    </tr>\n",
       "    <tr>\n",
       "      <th>386</th>\n",
       "      <td>Тропическая влажная саванна</td>\n",
       "      <td>Зима</td>\n",
       "      <td>Индия</td>\n",
       "      <td>3.0</td>\n",
       "      <td>NaN</td>\n",
       "      <td>28.6</td>\n",
       "      <td>30.8</td>\n",
       "    </tr>\n",
       "    <tr>\n",
       "      <th>378</th>\n",
       "      <td>Влажный субтропический муссонный</td>\n",
       "      <td>Лето</td>\n",
       "      <td>Индия</td>\n",
       "      <td>3.0</td>\n",
       "      <td>NaN</td>\n",
       "      <td>37.4</td>\n",
       "      <td>30.9</td>\n",
       "    </tr>\n",
       "    <tr>\n",
       "      <th>369</th>\n",
       "      <td>Тропическая влажная саванна</td>\n",
       "      <td>Лето</td>\n",
       "      <td>Индия</td>\n",
       "      <td>3.0</td>\n",
       "      <td>NaN</td>\n",
       "      <td>35.5</td>\n",
       "      <td>38.1</td>\n",
       "    </tr>\n",
       "    <tr>\n",
       "      <th>361</th>\n",
       "      <td>Влажный субтропический муссонный</td>\n",
       "      <td>Лето</td>\n",
       "      <td>Индия</td>\n",
       "      <td>3.0</td>\n",
       "      <td>NaN</td>\n",
       "      <td>35.8</td>\n",
       "      <td>30.9</td>\n",
       "    </tr>\n",
       "    <tr>\n",
       "      <th>359</th>\n",
       "      <td>Тропическая влажная саванна</td>\n",
       "      <td>Лето</td>\n",
       "      <td>Индия</td>\n",
       "      <td>3.0</td>\n",
       "      <td>NaN</td>\n",
       "      <td>25.8</td>\n",
       "      <td>38.1</td>\n",
       "    </tr>\n",
       "    <tr>\n",
       "      <th>420</th>\n",
       "      <td>Тропическая влажная саванна</td>\n",
       "      <td>Зима</td>\n",
       "      <td>Индия</td>\n",
       "      <td>3.0</td>\n",
       "      <td>NaN</td>\n",
       "      <td>26.7</td>\n",
       "      <td>30.8</td>\n",
       "    </tr>\n",
       "    <tr>\n",
       "      <th>76</th>\n",
       "      <td>Cубтропический океанический</td>\n",
       "      <td>Лето</td>\n",
       "      <td>Австралия</td>\n",
       "      <td>3.0</td>\n",
       "      <td>NaN</td>\n",
       "      <td>25.7</td>\n",
       "      <td>22.0</td>\n",
       "    </tr>\n",
       "    <tr>\n",
       "      <th>293</th>\n",
       "      <td>Жаркий полузасушливый</td>\n",
       "      <td>Лето</td>\n",
       "      <td>Индия</td>\n",
       "      <td>3.0</td>\n",
       "      <td>NaN</td>\n",
       "      <td>34.1</td>\n",
       "      <td>29.5</td>\n",
       "    </tr>\n",
       "    <tr>\n",
       "      <th>290</th>\n",
       "      <td>Тропическая влажная саванна</td>\n",
       "      <td>Лето</td>\n",
       "      <td>Индия</td>\n",
       "      <td>3.0</td>\n",
       "      <td>NaN</td>\n",
       "      <td>35.3</td>\n",
       "      <td>38.1</td>\n",
       "    </tr>\n",
       "    <tr>\n",
       "      <th>283</th>\n",
       "      <td>Жаркий полузасушливый</td>\n",
       "      <td>Весна</td>\n",
       "      <td>Индия</td>\n",
       "      <td>3.0</td>\n",
       "      <td>NaN</td>\n",
       "      <td>28.7</td>\n",
       "      <td>31.5</td>\n",
       "    </tr>\n",
       "    <tr>\n",
       "      <th>264</th>\n",
       "      <td>Cубтропический океанический</td>\n",
       "      <td>Лето</td>\n",
       "      <td>Австралия</td>\n",
       "      <td>3.0</td>\n",
       "      <td>NaN</td>\n",
       "      <td>24.8</td>\n",
       "      <td>22.0</td>\n",
       "    </tr>\n",
       "    <tr>\n",
       "      <th>261</th>\n",
       "      <td>Cубтропический океанический</td>\n",
       "      <td>Лето</td>\n",
       "      <td>Австралия</td>\n",
       "      <td>3.0</td>\n",
       "      <td>NaN</td>\n",
       "      <td>25.2</td>\n",
       "      <td>22.0</td>\n",
       "    </tr>\n",
       "    <tr>\n",
       "      <th>222</th>\n",
       "      <td>Cубтропический океанический</td>\n",
       "      <td>Лето</td>\n",
       "      <td>Австралия</td>\n",
       "      <td>3.0</td>\n",
       "      <td>NaN</td>\n",
       "      <td>24.4</td>\n",
       "      <td>22.0</td>\n",
       "    </tr>\n",
       "    <tr>\n",
       "      <th>211</th>\n",
       "      <td>Cубтропический океанический</td>\n",
       "      <td>Лето</td>\n",
       "      <td>Австралия</td>\n",
       "      <td>3.0</td>\n",
       "      <td>NaN</td>\n",
       "      <td>24.5</td>\n",
       "      <td>22.0</td>\n",
       "    </tr>\n",
       "    <tr>\n",
       "      <th>208</th>\n",
       "      <td>Cубтропический океанический</td>\n",
       "      <td>Лето</td>\n",
       "      <td>Австралия</td>\n",
       "      <td>3.0</td>\n",
       "      <td>NaN</td>\n",
       "      <td>23.9</td>\n",
       "      <td>22.0</td>\n",
       "    </tr>\n",
       "    <tr>\n",
       "      <th>203</th>\n",
       "      <td>Cубтропический океанический</td>\n",
       "      <td>Лето</td>\n",
       "      <td>Австралия</td>\n",
       "      <td>3.0</td>\n",
       "      <td>NaN</td>\n",
       "      <td>24.1</td>\n",
       "      <td>22.0</td>\n",
       "    </tr>\n",
       "    <tr>\n",
       "      <th>176</th>\n",
       "      <td>Cубтропический океанический</td>\n",
       "      <td>Лето</td>\n",
       "      <td>Австралия</td>\n",
       "      <td>3.0</td>\n",
       "      <td>NaN</td>\n",
       "      <td>22.9</td>\n",
       "      <td>22.0</td>\n",
       "    </tr>\n",
       "    <tr>\n",
       "      <th>334</th>\n",
       "      <td>Тропическая влажная саванна</td>\n",
       "      <td>Весна</td>\n",
       "      <td>Индия</td>\n",
       "      <td>3.0</td>\n",
       "      <td>NaN</td>\n",
       "      <td>26.3</td>\n",
       "      <td>30.4</td>\n",
       "    </tr>\n",
       "    <tr>\n",
       "      <th>429</th>\n",
       "      <td>Жаркий полузасушливый</td>\n",
       "      <td>Зима</td>\n",
       "      <td>Индия</td>\n",
       "      <td>3.0</td>\n",
       "      <td>NaN</td>\n",
       "      <td>29.8</td>\n",
       "      <td>21.6</td>\n",
       "    </tr>\n",
       "  </tbody>\n",
       "</table>\n",
       "</div>"
      ],
      "text/plain": [
       "                               климат время_года     страна  \\\n",
       "350       Тропическая влажная саванна      Весна      Индия   \n",
       "413       Тропическая влажная саванна      Весна      Индия   \n",
       "410       Тропическая влажная саванна      Осень      Индия   \n",
       "406  Влажный субтропический муссонный       Лето      Индия   \n",
       "401             Жаркий полузасушливый      Осень      Индия   \n",
       "395        Субтропическое высокогорье       Зима      Индия   \n",
       "386       Тропическая влажная саванна       Зима      Индия   \n",
       "378  Влажный субтропический муссонный       Лето      Индия   \n",
       "369       Тропическая влажная саванна       Лето      Индия   \n",
       "361  Влажный субтропический муссонный       Лето      Индия   \n",
       "359       Тропическая влажная саванна       Лето      Индия   \n",
       "420       Тропическая влажная саванна       Зима      Индия   \n",
       "76        Cубтропический океанический       Лето  Австралия   \n",
       "293             Жаркий полузасушливый       Лето      Индия   \n",
       "290       Тропическая влажная саванна       Лето      Индия   \n",
       "283             Жаркий полузасушливый      Весна      Индия   \n",
       "264       Cубтропический океанический       Лето  Австралия   \n",
       "261       Cубтропический океанический       Лето  Австралия   \n",
       "222       Cубтропический океанический       Лето  Австралия   \n",
       "211       Cубтропический океанический       Лето  Австралия   \n",
       "208       Cубтропический океанический       Лето  Австралия   \n",
       "203       Cубтропический океанический       Лето  Австралия   \n",
       "176       Cубтропический океанический       Лето  Австралия   \n",
       "334       Тропическая влажная саванна      Весна      Индия   \n",
       "429             Жаркий полузасушливый       Зима      Индия   \n",
       "\n",
       "     ощущение_температуры  температура_воздуха_на_улице  \\\n",
       "350                  -3.0                           NaN   \n",
       "413                   3.0                           NaN   \n",
       "410                   3.0                           NaN   \n",
       "406                   3.0                           NaN   \n",
       "401                   3.0                           NaN   \n",
       "395                   3.0                           NaN   \n",
       "386                   3.0                           NaN   \n",
       "378                   3.0                           NaN   \n",
       "369                   3.0                           NaN   \n",
       "361                   3.0                           NaN   \n",
       "359                   3.0                           NaN   \n",
       "420                   3.0                           NaN   \n",
       "76                    3.0                           NaN   \n",
       "293                   3.0                           NaN   \n",
       "290                   3.0                           NaN   \n",
       "283                   3.0                           NaN   \n",
       "264                   3.0                           NaN   \n",
       "261                   3.0                           NaN   \n",
       "222                   3.0                           NaN   \n",
       "211                   3.0                           NaN   \n",
       "208                   3.0                           NaN   \n",
       "203                   3.0                           NaN   \n",
       "176                   3.0                           NaN   \n",
       "334                   3.0                           NaN   \n",
       "429                   3.0                           NaN   \n",
       "\n",
       "     температура_воздуха_в_помещении  среднемесячная_температура_на_улице  \n",
       "350                             26.6                                 30.4  \n",
       "413                             25.5                                 30.4  \n",
       "410                             25.9                                 29.7  \n",
       "406                             37.1                                 30.9  \n",
       "401                             30.1                                 25.7  \n",
       "395                             20.2                                  8.5  \n",
       "386                             28.6                                 30.8  \n",
       "378                             37.4                                 30.9  \n",
       "369                             35.5                                 38.1  \n",
       "361                             35.8                                 30.9  \n",
       "359                             25.8                                 38.1  \n",
       "420                             26.7                                 30.8  \n",
       "76                              25.7                                 22.0  \n",
       "293                             34.1                                 29.5  \n",
       "290                             35.3                                 38.1  \n",
       "283                             28.7                                 31.5  \n",
       "264                             24.8                                 22.0  \n",
       "261                             25.2                                 22.0  \n",
       "222                             24.4                                 22.0  \n",
       "211                             24.5                                 22.0  \n",
       "208                             23.9                                 22.0  \n",
       "203                             24.1                                 22.0  \n",
       "176                             22.9                                 22.0  \n",
       "334                             26.3                                 30.4  \n",
       "429                             29.8                                 21.6  "
      ]
     },
     "execution_count": 653,
     "metadata": {},
     "output_type": "execute_result"
    }
   ],
   "source": [
    "df.query('ощущение_температуры < -2 | ощущение_температуры > 2')[['климат', 'время_года', 'страна', 'ощущение_температуры', \n",
    "                                                                  'температура_воздуха_на_улице', 'температура_воздуха_в_помещении',\n",
    "                                                                 'среднемесячная_температура_на_улице']].sort_values(by='ощущение_температуры')"
   ]
  },
  {
   "cell_type": "code",
   "execution_count": 655,
   "id": "11d77e56-bfab-4283-9877-f19acc91134d",
   "metadata": {},
   "outputs": [
    {
     "data": {
      "text/plain": [
       "count    484.000000\n",
       "mean       0.203306\n",
       "std        1.091976\n",
       "min       -3.000000\n",
       "25%        0.000000\n",
       "50%        0.000000\n",
       "75%        1.000000\n",
       "max        3.000000\n",
       "Name: ощущение_температуры, dtype: float64"
      ]
     },
     "execution_count": 655,
     "metadata": {},
     "output_type": "execute_result"
    }
   ],
   "source": [
    "df['ощущение_температуры'].describe()"
   ]
  },
  {
   "cell_type": "markdown",
   "id": "434235d8-a7e6-4e0a-9890-fdac7b60afce",
   "metadata": {},
   "source": [
    "Однозначных выводов, как заменить выбросы в столбце ощущение_температуры нет."
   ]
  },
  {
   "cell_type": "code",
   "execution_count": 658,
   "id": "e0a41bb3-b6e7-4fa7-8b74-e62dcf2cfa02",
   "metadata": {},
   "outputs": [
    {
     "data": {
      "image/png": "[encoded data removed]",
      "text/plain": [
       "<Figure size 640x480 with 1 Axes>"
      ]
     },
     "metadata": {},
     "output_type": "display_data"
    }
   ],
   "source": [
    "sns.boxplot(data=df, y='утепление', x='время_года')\n",
    "plt.title('Исследование выбросов в утеплении от времени года')\n",
    "plt.show()"
   ]
  },
  {
   "cell_type": "markdown",
   "id": "323c95f1-bc2d-43e2-a583-5186d9de1097",
   "metadata": {},
   "source": [
    "Выбросы в утеплении летом могут поломать логику нашего исследования, я хочу устранить их путем заменой на групповую медиану по времени года."
   ]
  },
  {
   "cell_type": "code",
   "execution_count": 661,
   "id": "e659a052-eb89-4ead-aab8-e3fb3f6389e1",
   "metadata": {},
   "outputs": [
    {
     "data": {
      "image/png": "[encoded data removed]",
      "text/plain": [
       "<Figure size 640x480 with 1 Axes>"
      ]
     },
     "metadata": {},
     "output_type": "display_data"
    }
   ],
   "source": [
    "q1 = df[df['время_года'] == 'Лето']['утепление'].quantile(0.25)\n",
    "q3 = df[df['время_года'] == 'Лето']['утепление'].quantile(0.75)\n",
    "mask = df[(df['время_года'] == 'Лето') & (df['утепление'] > q3 + 3 * (q3 - q1))].index.to_list()\n",
    "df.loc[mask, 'утепление'] = df.groupby('время_года')['утепление'].transform('median')\n",
    "sns.boxplot(data=df, y='утепление', x='время_года')\n",
    "plt.title('Исследование выбросов в утеплении от времени года')\n",
    "plt.show()"
   ]
  },
  {
   "cell_type": "code",
   "execution_count": 663,
   "id": "889f7fb5-0571-4a15-a9c4-73758c05a26a",
   "metadata": {},
   "outputs": [
    {
     "data": {
      "text/html": [
       "<div>\n",
       "<style scoped>\n",
       "    .dataframe tbody tr th:only-of-type {\n",
       "        vertical-align: middle;\n",
       "    }\n",
       "\n",
       "    .dataframe tbody tr th {\n",
       "        vertical-align: top;\n",
       "    }\n",
       "\n",
       "    .dataframe thead th {\n",
       "        text-align: right;\n",
       "    }\n",
       "</style>\n",
       "<table border=\"1\" class=\"dataframe\">\n",
       "  <thead>\n",
       "    <tr style=\"text-align: right;\">\n",
       "      <th></th>\n",
       "      <th>климат</th>\n",
       "      <th>время_года</th>\n",
       "      <th>страна</th>\n",
       "      <th>город</th>\n",
       "      <th>ощущение_температуры</th>\n",
       "      <th>температура_воздуха_на_улице</th>\n",
       "      <th>температура_воздуха_в_помещении</th>\n",
       "      <th>среднемесячная_температура_на_улице</th>\n",
       "    </tr>\n",
       "  </thead>\n",
       "  <tbody>\n",
       "    <tr>\n",
       "      <th>45</th>\n",
       "      <td>Cубтропический океанический</td>\n",
       "      <td>Лето</td>\n",
       "      <td>США</td>\n",
       "      <td>Техас</td>\n",
       "      <td>-1.0</td>\n",
       "      <td>23.3</td>\n",
       "      <td>74.0</td>\n",
       "      <td>31.7</td>\n",
       "    </tr>\n",
       "    <tr>\n",
       "      <th>1</th>\n",
       "      <td>Cубтропический океанический</td>\n",
       "      <td>Лето</td>\n",
       "      <td>США</td>\n",
       "      <td>Техас</td>\n",
       "      <td>-2.0</td>\n",
       "      <td>23.7</td>\n",
       "      <td>74.8</td>\n",
       "      <td>84.0</td>\n",
       "    </tr>\n",
       "    <tr>\n",
       "      <th>7</th>\n",
       "      <td>Cубтропический океанический</td>\n",
       "      <td>Лето</td>\n",
       "      <td>США</td>\n",
       "      <td>Техас</td>\n",
       "      <td>-2.0</td>\n",
       "      <td>23.6</td>\n",
       "      <td>74.8</td>\n",
       "      <td>32.8</td>\n",
       "    </tr>\n",
       "    <tr>\n",
       "      <th>33</th>\n",
       "      <td>Cубтропический океанический</td>\n",
       "      <td>Лето</td>\n",
       "      <td>США</td>\n",
       "      <td>Техас</td>\n",
       "      <td>-1.0</td>\n",
       "      <td>24.2</td>\n",
       "      <td>74.9</td>\n",
       "      <td>32.8</td>\n",
       "    </tr>\n",
       "    <tr>\n",
       "      <th>67</th>\n",
       "      <td>Cубтропический океанический</td>\n",
       "      <td>Лето</td>\n",
       "      <td>США</td>\n",
       "      <td>Техас</td>\n",
       "      <td>-0.5</td>\n",
       "      <td>23.8</td>\n",
       "      <td>74.9</td>\n",
       "      <td>84.0</td>\n",
       "    </tr>\n",
       "    <tr>\n",
       "      <th>38</th>\n",
       "      <td>Cубтропический океанический</td>\n",
       "      <td>Лето</td>\n",
       "      <td>США</td>\n",
       "      <td>Техас</td>\n",
       "      <td>1.0</td>\n",
       "      <td>24.3</td>\n",
       "      <td>75.5</td>\n",
       "      <td>28.9</td>\n",
       "    </tr>\n",
       "    <tr>\n",
       "      <th>41</th>\n",
       "      <td>Cубтропический океанический</td>\n",
       "      <td>Лето</td>\n",
       "      <td>США</td>\n",
       "      <td>Техас</td>\n",
       "      <td>0.0</td>\n",
       "      <td>24.1</td>\n",
       "      <td>75.7</td>\n",
       "      <td>31.7</td>\n",
       "    </tr>\n",
       "    <tr>\n",
       "      <th>54</th>\n",
       "      <td>Cубтропический океанический</td>\n",
       "      <td>Лето</td>\n",
       "      <td>США</td>\n",
       "      <td>Техас</td>\n",
       "      <td>-2.0</td>\n",
       "      <td>24.1</td>\n",
       "      <td>75.7</td>\n",
       "      <td>28.9</td>\n",
       "    </tr>\n",
       "    <tr>\n",
       "      <th>9</th>\n",
       "      <td>Cубтропический океанический</td>\n",
       "      <td>Лето</td>\n",
       "      <td>США</td>\n",
       "      <td>Техас</td>\n",
       "      <td>1.0</td>\n",
       "      <td>24.4</td>\n",
       "      <td>76.4</td>\n",
       "      <td>31.7</td>\n",
       "    </tr>\n",
       "    <tr>\n",
       "      <th>23</th>\n",
       "      <td>Cубтропический океанический</td>\n",
       "      <td>Лето</td>\n",
       "      <td>США</td>\n",
       "      <td>Техас</td>\n",
       "      <td>1.6</td>\n",
       "      <td>24.7</td>\n",
       "      <td>77.0</td>\n",
       "      <td>32.8</td>\n",
       "    </tr>\n",
       "  </tbody>\n",
       "</table>\n",
       "</div>"
      ],
      "text/plain": [
       "                         климат время_года страна  город  \\\n",
       "45  Cубтропический океанический       Лето    США  Техас   \n",
       "1   Cубтропический океанический       Лето    США  Техас   \n",
       "7   Cубтропический океанический       Лето    США  Техас   \n",
       "33  Cубтропический океанический       Лето    США  Техас   \n",
       "67  Cубтропический океанический       Лето    США  Техас   \n",
       "38  Cубтропический океанический       Лето    США  Техас   \n",
       "41  Cубтропический океанический       Лето    США  Техас   \n",
       "54  Cубтропический океанический       Лето    США  Техас   \n",
       "9   Cубтропический океанический       Лето    США  Техас   \n",
       "23  Cубтропический океанический       Лето    США  Техас   \n",
       "\n",
       "    ощущение_температуры  температура_воздуха_на_улице  \\\n",
       "45                  -1.0                          23.3   \n",
       "1                   -2.0                          23.7   \n",
       "7                   -2.0                          23.6   \n",
       "33                  -1.0                          24.2   \n",
       "67                  -0.5                          23.8   \n",
       "38                   1.0                          24.3   \n",
       "41                   0.0                          24.1   \n",
       "54                  -2.0                          24.1   \n",
       "9                    1.0                          24.4   \n",
       "23                   1.6                          24.7   \n",
       "\n",
       "    температура_воздуха_в_помещении  среднемесячная_температура_на_улице  \n",
       "45                             74.0                                 31.7  \n",
       "1                              74.8                                 84.0  \n",
       "7                              74.8                                 32.8  \n",
       "33                             74.9                                 32.8  \n",
       "67                             74.9                                 84.0  \n",
       "38                             75.5                                 28.9  \n",
       "41                             75.7                                 31.7  \n",
       "54                             75.7                                 28.9  \n",
       "9                              76.4                                 31.7  \n",
       "23                             77.0                                 32.8  "
      ]
     },
     "execution_count": 663,
     "metadata": {},
     "output_type": "execute_result"
    }
   ],
   "source": [
    "df.query('температура_воздуха_в_помещении > 40')[['климат', 'время_года', 'страна', 'город', 'ощущение_температуры', \n",
    "                                                  'температура_воздуха_на_улице', 'температура_воздуха_в_помещении',\n",
    "                                                  'среднемесячная_температура_на_улице']].sort_values(by='температура_воздуха_в_помещении')"
   ]
  },
  {
   "cell_type": "markdown",
   "id": "3c875e92-4484-460e-88e6-1f069f89465b",
   "metadata": {},
   "source": [
    "У данных выбросов есть интересная схожесть - страна, где проходили исследования. США - там температура измеряется в Фаренгейтах. Воспользуемся формулой перевода в Цельсии для таких выбросов."
   ]
  },
  {
   "cell_type": "code",
   "execution_count": 666,
   "id": "89fd2740-a052-4463-84a0-e8456642f181",
   "metadata": {},
   "outputs": [
    {
     "data": {
      "text/plain": [
       "count    484.000000\n",
       "mean      25.012695\n",
       "std        2.762848\n",
       "min       16.200000\n",
       "25%       23.800000\n",
       "50%       24.600000\n",
       "75%       25.700000\n",
       "max       37.400000\n",
       "Name: температура_воздуха_в_помещении, dtype: float64"
      ]
     },
     "execution_count": 666,
     "metadata": {},
     "output_type": "execute_result"
    }
   ],
   "source": [
    "df['температура_воздуха_в_помещении'] = df['температура_воздуха_в_помещении'].apply(lambda x: x if x < 40 else ((5 / 9) * (x - 32)))\n",
    "df['температура_воздуха_в_помещении'].describe()"
   ]
  },
  {
   "cell_type": "code",
   "execution_count": 668,
   "id": "2e987430-7be5-40b9-a380-12930ce43816",
   "metadata": {},
   "outputs": [
    {
     "data": {
      "text/html": [
       "<div>\n",
       "<style scoped>\n",
       "    .dataframe tbody tr th:only-of-type {\n",
       "        vertical-align: middle;\n",
       "    }\n",
       "\n",
       "    .dataframe tbody tr th {\n",
       "        vertical-align: top;\n",
       "    }\n",
       "\n",
       "    .dataframe thead th {\n",
       "        text-align: right;\n",
       "    }\n",
       "</style>\n",
       "<table border=\"1\" class=\"dataframe\">\n",
       "  <thead>\n",
       "    <tr style=\"text-align: right;\">\n",
       "      <th></th>\n",
       "      <th>время_года</th>\n",
       "      <th>климат</th>\n",
       "      <th>город</th>\n",
       "      <th>страна</th>\n",
       "      <th>способ_охлаждения</th>\n",
       "      <th>режим_при_смешанном_типе_охлаждения</th>\n",
       "      <th>способ_обогрева</th>\n",
       "      <th>пол</th>\n",
       "      <th>предпочтительное_изменение_температуры</th>\n",
       "      <th>предпочтительное_изменение_движения_воздуха</th>\n",
       "    </tr>\n",
       "  </thead>\n",
       "  <tbody>\n",
       "    <tr>\n",
       "      <th>count</th>\n",
       "      <td>13</td>\n",
       "      <td>13</td>\n",
       "      <td>13</td>\n",
       "      <td>13</td>\n",
       "      <td>13</td>\n",
       "      <td>2</td>\n",
       "      <td>1</td>\n",
       "      <td>3</td>\n",
       "      <td>13</td>\n",
       "      <td>13</td>\n",
       "    </tr>\n",
       "    <tr>\n",
       "      <th>unique</th>\n",
       "      <td>2</td>\n",
       "      <td>4</td>\n",
       "      <td>4</td>\n",
       "      <td>2</td>\n",
       "      <td>3</td>\n",
       "      <td>2</td>\n",
       "      <td>1</td>\n",
       "      <td>2</td>\n",
       "      <td>3</td>\n",
       "      <td>3</td>\n",
       "    </tr>\n",
       "    <tr>\n",
       "      <th>top</th>\n",
       "      <td>Лето</td>\n",
       "      <td>Cубтропический океанический</td>\n",
       "      <td>Техас</td>\n",
       "      <td>США</td>\n",
       "      <td>Кондиционирование</td>\n",
       "      <td>Кондиционирование</td>\n",
       "      <td>Механическое отопление</td>\n",
       "      <td>Мужской</td>\n",
       "      <td>Без изменений</td>\n",
       "      <td>Без изменений</td>\n",
       "    </tr>\n",
       "    <tr>\n",
       "      <th>freq</th>\n",
       "      <td>12</td>\n",
       "      <td>10</td>\n",
       "      <td>10</td>\n",
       "      <td>10</td>\n",
       "      <td>10</td>\n",
       "      <td>1</td>\n",
       "      <td>1</td>\n",
       "      <td>2</td>\n",
       "      <td>9</td>\n",
       "      <td>8</td>\n",
       "    </tr>\n",
       "  </tbody>\n",
       "</table>\n",
       "</div>"
      ],
      "text/plain": [
       "       время_года                       климат  город страна  \\\n",
       "count          13                           13     13     13   \n",
       "unique          2                            4      4      2   \n",
       "top          Лето  Cубтропический океанический  Техас    США   \n",
       "freq           12                           10     10     10   \n",
       "\n",
       "        способ_охлаждения режим_при_смешанном_типе_охлаждения  \\\n",
       "count                  13                                   2   \n",
       "unique                  3                                   2   \n",
       "top     Кондиционирование                   Кондиционирование   \n",
       "freq                   10                                   1   \n",
       "\n",
       "               способ_обогрева      пол  \\\n",
       "count                        1        3   \n",
       "unique                       1        2   \n",
       "top     Механическое отопление  Мужской   \n",
       "freq                         1        2   \n",
       "\n",
       "       предпочтительное_изменение_температуры  \\\n",
       "count                                      13   \n",
       "unique                                      3   \n",
       "top                             Без изменений   \n",
       "freq                                        9   \n",
       "\n",
       "       предпочтительное_изменение_движения_воздуха  \n",
       "count                                           13  \n",
       "unique                                           3  \n",
       "top                                  Без изменений  \n",
       "freq                                             8  "
      ]
     },
     "execution_count": 668,
     "metadata": {},
     "output_type": "execute_result"
    }
   ],
   "source": [
    "df.query('скорость_воздуха > 1').describe(include=object)"
   ]
  },
  {
   "cell_type": "code",
   "execution_count": 670,
   "id": "495d3fbb-a10e-4e2c-871d-d6798ead6656",
   "metadata": {},
   "outputs": [
    {
     "name": "stdout",
     "output_type": "stream",
     "text": [
      "Кондиционирование \n",
      "Описательный анализ по столбцу скорость_воздуха\n",
      "count    114.000000\n",
      "mean       2.820000\n",
      "std        9.890699\n",
      "min        0.030000\n",
      "25%        0.100000\n",
      "50%        0.130000\n",
      "75%        0.210000\n",
      "max       63.830000\n",
      "Name: скорость_воздуха, dtype: float64\n",
      "\n",
      "\n",
      "Смешанный \n",
      "Описательный анализ по столбцу скорость_воздуха\n",
      "count    337.000000\n",
      "mean       0.118309\n",
      "std        0.140862\n",
      "min        0.000000\n",
      "25%        0.060000\n",
      "50%        0.090000\n",
      "75%        0.120000\n",
      "max        1.420000\n",
      "Name: скорость_воздуха, dtype: float64\n",
      "\n",
      "\n",
      "Вентиляция \n",
      "Описательный анализ по столбцу скорость_воздуха\n",
      "count    33.000000\n",
      "mean      0.204848\n",
      "std       0.318474\n",
      "min       0.000000\n",
      "25%       0.030000\n",
      "50%       0.060000\n",
      "75%       0.190000\n",
      "max       1.430000\n",
      "Name: скорость_воздуха, dtype: float64\n",
      "\n",
      "\n"
     ]
    }
   ],
   "source": [
    "for el in df['способ_охлаждения'].unique():\n",
    "  print(el, '\\nОписательный анализ по столбцу скорость_воздуха')\n",
    "  print(df[df['способ_охлаждения'] == el]['скорость_воздуха'].describe())\n",
    "  print('\\n')"
   ]
  },
  {
   "cell_type": "markdown",
   "id": "24f171be-21f6-48a8-a6c1-4cd280ccaf65",
   "metadata": {},
   "source": [
    "Заполним выбросы медианой по группе относительно способа охлаждения."
   ]
  },
  {
   "cell_type": "code",
   "execution_count": 673,
   "id": "c949af5f-7c44-4778-8aa0-4499f5b5ef0c",
   "metadata": {},
   "outputs": [
    {
     "name": "stdout",
     "output_type": "stream",
     "text": [
      "Кондиционирование \n",
      "Описательный анализ по столбцу скорость_воздуха\n",
      "count    114.000000\n",
      "mean       0.148333\n",
      "std        0.082654\n",
      "min        0.030000\n",
      "25%        0.100000\n",
      "50%        0.130000\n",
      "75%        0.170000\n",
      "max        0.450000\n",
      "Name: скорость_воздуха, dtype: float64\n",
      "\n",
      "\n",
      "Смешанный \n",
      "Описательный анализ по столбцу скорость_воздуха\n",
      "count    337.000000\n",
      "mean       0.118309\n",
      "std        0.140862\n",
      "min        0.000000\n",
      "25%        0.060000\n",
      "50%        0.090000\n",
      "75%        0.120000\n",
      "max        1.420000\n",
      "Name: скорость_воздуха, dtype: float64\n",
      "\n",
      "\n",
      "Вентиляция \n",
      "Описательный анализ по столбцу скорость_воздуха\n",
      "count    33.000000\n",
      "mean      0.204848\n",
      "std       0.318474\n",
      "min       0.000000\n",
      "25%       0.030000\n",
      "50%       0.060000\n",
      "75%       0.190000\n",
      "max       1.430000\n",
      "Name: скорость_воздуха, dtype: float64\n",
      "\n",
      "\n"
     ]
    }
   ],
   "source": [
    "q1 = df[df['способ_охлаждения'] == 'Кондиционирование']['скорость_воздуха'].quantile(0.25)\n",
    "q3 = df[df['способ_охлаждения'] == 'Кондиционирование']['скорость_воздуха'].quantile(0.75)\n",
    "mask = df[(df['скорость_воздуха'] > 3 * (q3 - q1) + q3) & (df['способ_охлаждения'] == 'Кондиционирование')].index.to_list()\n",
    "df.loc[mask, 'скорость_воздуха'] = df.groupby('способ_охлаждения')['скорость_воздуха'].transform('median')\n",
    "for el in df['способ_охлаждения'].unique():\n",
    "  print(el, '\\nОписательный анализ по столбцу скорость_воздуха')\n",
    "  print(df[df['способ_охлаждения'] == el]['скорость_воздуха'].describe())\n",
    "  print('\\n')"
   ]
  },
  {
   "cell_type": "code",
   "execution_count": 675,
   "id": "1bee2ad1-6a0f-4af6-8416-78350a5211b6",
   "metadata": {},
   "outputs": [
    {
     "data": {
      "image/png": "[encoded data removed]",
      "text/plain": [
       "<Figure size 640x480 with 1 Axes>"
      ]
     },
     "metadata": {},
     "output_type": "display_data"
    }
   ],
   "source": [
    "boxplot_chart(df, ['скорость_воздуха'])"
   ]
  },
  {
   "cell_type": "code",
   "execution_count": 677,
   "id": "457cdf2a-46fa-4566-8e0a-6e5bd2239282",
   "metadata": {},
   "outputs": [
    {
     "data": {
      "text/html": [
       "<div>\n",
       "<style scoped>\n",
       "    .dataframe tbody tr th:only-of-type {\n",
       "        vertical-align: middle;\n",
       "    }\n",
       "\n",
       "    .dataframe tbody tr th {\n",
       "        vertical-align: top;\n",
       "    }\n",
       "\n",
       "    .dataframe thead th {\n",
       "        text-align: right;\n",
       "    }\n",
       "</style>\n",
       "<table border=\"1\" class=\"dataframe\">\n",
       "  <thead>\n",
       "    <tr style=\"text-align: right;\">\n",
       "      <th></th>\n",
       "      <th>год</th>\n",
       "      <th>время_года</th>\n",
       "      <th>климат</th>\n",
       "      <th>город</th>\n",
       "      <th>страна</th>\n",
       "      <th>способ_охлаждения</th>\n",
       "      <th>режим_при_смешанном_типе_охлаждения</th>\n",
       "      <th>способ_обогрева</th>\n",
       "      <th>возраст</th>\n",
       "      <th>пол</th>\n",
       "      <th>...</th>\n",
       "      <th>скорость_воздуха</th>\n",
       "      <th>рост</th>\n",
       "      <th>вес</th>\n",
       "      <th>занавески</th>\n",
       "      <th>вентилятор</th>\n",
       "      <th>окно</th>\n",
       "      <th>двери</th>\n",
       "      <th>отопление</th>\n",
       "      <th>среднемесячная_температура_на_улице</th>\n",
       "      <th>количество_рекламаций</th>\n",
       "    </tr>\n",
       "  </thead>\n",
       "  <tbody>\n",
       "    <tr>\n",
       "      <th>287</th>\n",
       "      <td>2012</td>\n",
       "      <td>Зима</td>\n",
       "      <td>Влажный субтропический муссонный</td>\n",
       "      <td>Дели</td>\n",
       "      <td>Индия</td>\n",
       "      <td>Смешанный</td>\n",
       "      <td>Вентиляция</td>\n",
       "      <td>NaN</td>\n",
       "      <td>35.0</td>\n",
       "      <td>Мужской</td>\n",
       "      <td>...</td>\n",
       "      <td>0.01</td>\n",
       "      <td>5.23</td>\n",
       "      <td>55.0</td>\n",
       "      <td>True</td>\n",
       "      <td>False</td>\n",
       "      <td>False</td>\n",
       "      <td>True</td>\n",
       "      <td>True</td>\n",
       "      <td>15.5</td>\n",
       "      <td>0</td>\n",
       "    </tr>\n",
       "    <tr>\n",
       "      <th>301</th>\n",
       "      <td>2012</td>\n",
       "      <td>Лето</td>\n",
       "      <td>Субтропическое высокогорье</td>\n",
       "      <td>Шимла</td>\n",
       "      <td>Индия</td>\n",
       "      <td>Смешанный</td>\n",
       "      <td>Вентиляция</td>\n",
       "      <td>Механическое отопление</td>\n",
       "      <td>55.0</td>\n",
       "      <td>Женский</td>\n",
       "      <td>...</td>\n",
       "      <td>0.00</td>\n",
       "      <td>147.30</td>\n",
       "      <td>58.0</td>\n",
       "      <td>True</td>\n",
       "      <td>True</td>\n",
       "      <td>True</td>\n",
       "      <td>True</td>\n",
       "      <td>False</td>\n",
       "      <td>18.5</td>\n",
       "      <td>0</td>\n",
       "    </tr>\n",
       "    <tr>\n",
       "      <th>306</th>\n",
       "      <td>2012</td>\n",
       "      <td>Лето</td>\n",
       "      <td>Субтропическое высокогорье</td>\n",
       "      <td>Шимла</td>\n",
       "      <td>Индия</td>\n",
       "      <td>Вентиляция</td>\n",
       "      <td>NaN</td>\n",
       "      <td>NaN</td>\n",
       "      <td>45.0</td>\n",
       "      <td>Мужской</td>\n",
       "      <td>...</td>\n",
       "      <td>0.04</td>\n",
       "      <td>5.74</td>\n",
       "      <td>53.0</td>\n",
       "      <td>True</td>\n",
       "      <td>True</td>\n",
       "      <td>True</td>\n",
       "      <td>True</td>\n",
       "      <td>True</td>\n",
       "      <td>18.5</td>\n",
       "      <td>0</td>\n",
       "    </tr>\n",
       "    <tr>\n",
       "      <th>325</th>\n",
       "      <td>2012</td>\n",
       "      <td>Зима</td>\n",
       "      <td>Жаркий полузасушливый</td>\n",
       "      <td>Ахмедабад</td>\n",
       "      <td>Индия</td>\n",
       "      <td>Вентиляция</td>\n",
       "      <td>NaN</td>\n",
       "      <td>NaN</td>\n",
       "      <td>25.0</td>\n",
       "      <td>Женский</td>\n",
       "      <td>...</td>\n",
       "      <td>0.05</td>\n",
       "      <td>144.80</td>\n",
       "      <td>44.0</td>\n",
       "      <td>True</td>\n",
       "      <td>False</td>\n",
       "      <td>False</td>\n",
       "      <td>True</td>\n",
       "      <td>True</td>\n",
       "      <td>21.3</td>\n",
       "      <td>0</td>\n",
       "    </tr>\n",
       "    <tr>\n",
       "      <th>340</th>\n",
       "      <td>2012</td>\n",
       "      <td>Зима</td>\n",
       "      <td>Субтропическое высокогорье</td>\n",
       "      <td>Шимла</td>\n",
       "      <td>Индия</td>\n",
       "      <td>Смешанный</td>\n",
       "      <td>Кондиционирование</td>\n",
       "      <td>Механическое отопление</td>\n",
       "      <td>25.0</td>\n",
       "      <td>Женский</td>\n",
       "      <td>...</td>\n",
       "      <td>0.04</td>\n",
       "      <td>134.60</td>\n",
       "      <td>43.0</td>\n",
       "      <td>True</td>\n",
       "      <td>True</td>\n",
       "      <td>False</td>\n",
       "      <td>True</td>\n",
       "      <td>True</td>\n",
       "      <td>8.5</td>\n",
       "      <td>0</td>\n",
       "    </tr>\n",
       "  </tbody>\n",
       "</table>\n",
       "<p>5 rows × 30 columns</p>\n",
       "</div>"
      ],
      "text/plain": [
       "      год время_года                            климат      город страна  \\\n",
       "287  2012       Зима  Влажный субтропический муссонный       Дели  Индия   \n",
       "301  2012       Лето        Субтропическое высокогорье      Шимла  Индия   \n",
       "306  2012       Лето        Субтропическое высокогорье      Шимла  Индия   \n",
       "325  2012       Зима             Жаркий полузасушливый  Ахмедабад  Индия   \n",
       "340  2012       Зима        Субтропическое высокогорье      Шимла  Индия   \n",
       "\n",
       "    способ_охлаждения режим_при_смешанном_типе_охлаждения  \\\n",
       "287         Смешанный                          Вентиляция   \n",
       "301         Смешанный                          Вентиляция   \n",
       "306        Вентиляция                                 NaN   \n",
       "325        Вентиляция                                 NaN   \n",
       "340         Смешанный                   Кондиционирование   \n",
       "\n",
       "            способ_обогрева  возраст      пол  ...  скорость_воздуха    рост  \\\n",
       "287                     NaN     35.0  Мужской  ...              0.01    5.23   \n",
       "301  Механическое отопление     55.0  Женский  ...              0.00  147.30   \n",
       "306                     NaN     45.0  Мужской  ...              0.04    5.74   \n",
       "325                     NaN     25.0  Женский  ...              0.05  144.80   \n",
       "340  Механическое отопление     25.0  Женский  ...              0.04  134.60   \n",
       "\n",
       "      вес  занавески вентилятор   окно  двери  отопление  \\\n",
       "287  55.0       True      False  False   True       True   \n",
       "301  58.0       True       True   True   True      False   \n",
       "306  53.0       True       True   True   True       True   \n",
       "325  44.0       True      False  False   True       True   \n",
       "340  43.0       True       True  False   True       True   \n",
       "\n",
       "     среднемесячная_температура_на_улице  количество_рекламаций  \n",
       "287                                 15.5                      0  \n",
       "301                                 18.5                      0  \n",
       "306                                 18.5                      0  \n",
       "325                                 21.3                      0  \n",
       "340                                  8.5                      0  \n",
       "\n",
       "[5 rows x 30 columns]"
      ]
     },
     "execution_count": 677,
     "metadata": {},
     "output_type": "execute_result"
    }
   ],
   "source": [
    "df.query(f'рост < {df[\"рост\"].quantile(0.05)}')"
   ]
  },
  {
   "cell_type": "markdown",
   "id": "57b384ac-7ef3-4b8e-9696-0f782b4aa008",
   "metadata": {},
   "source": [
    "Можем предпложить, что в Индии длина измеряется по-своему. Возможно это футы или Ilahi Gaz. Но если переводить в эти величины, то можно ужаснутся большими значениями. По тому данные значения будем считать NaN,\n",
    "в заполнении пропусков будем думать, как такие значения заполнять."
   ]
  },
  {
   "cell_type": "code",
   "execution_count": 680,
   "id": "4b921b57-7a2b-4fc4-a4b5-e2d1bfc9e451",
   "metadata": {},
   "outputs": [
    {
     "data": {
      "image/png": "[encoded data removed]",
      "text/plain": [
       "<Figure size 640x480 with 1 Axes>"
      ]
     },
     "metadata": {},
     "output_type": "display_data"
    },
    {
     "data": {
      "text/html": [
       "<div>\n",
       "<style scoped>\n",
       "    .dataframe tbody tr th:only-of-type {\n",
       "        vertical-align: middle;\n",
       "    }\n",
       "\n",
       "    .dataframe tbody tr th {\n",
       "        vertical-align: top;\n",
       "    }\n",
       "\n",
       "    .dataframe thead th {\n",
       "        text-align: right;\n",
       "    }\n",
       "</style>\n",
       "<table border=\"1\" class=\"dataframe\">\n",
       "  <thead>\n",
       "    <tr style=\"text-align: right;\">\n",
       "      <th></th>\n",
       "      <th>год</th>\n",
       "      <th>время_года</th>\n",
       "      <th>климат</th>\n",
       "      <th>город</th>\n",
       "      <th>страна</th>\n",
       "      <th>способ_охлаждения</th>\n",
       "      <th>режим_при_смешанном_типе_охлаждения</th>\n",
       "      <th>способ_обогрева</th>\n",
       "      <th>возраст</th>\n",
       "      <th>пол</th>\n",
       "      <th>...</th>\n",
       "      <th>скорость_воздуха</th>\n",
       "      <th>рост</th>\n",
       "      <th>вес</th>\n",
       "      <th>занавески</th>\n",
       "      <th>вентилятор</th>\n",
       "      <th>окно</th>\n",
       "      <th>двери</th>\n",
       "      <th>отопление</th>\n",
       "      <th>среднемесячная_температура_на_улице</th>\n",
       "      <th>количество_рекламаций</th>\n",
       "    </tr>\n",
       "  </thead>\n",
       "  <tbody>\n",
       "    <tr>\n",
       "      <th>340</th>\n",
       "      <td>2012</td>\n",
       "      <td>Зима</td>\n",
       "      <td>Субтропическое высокогорье</td>\n",
       "      <td>Шимла</td>\n",
       "      <td>Индия</td>\n",
       "      <td>Смешанный</td>\n",
       "      <td>Кондиционирование</td>\n",
       "      <td>Механическое отопление</td>\n",
       "      <td>25.0</td>\n",
       "      <td>Женский</td>\n",
       "      <td>...</td>\n",
       "      <td>0.04</td>\n",
       "      <td>134.6</td>\n",
       "      <td>43.0</td>\n",
       "      <td>True</td>\n",
       "      <td>True</td>\n",
       "      <td>False</td>\n",
       "      <td>True</td>\n",
       "      <td>True</td>\n",
       "      <td>8.5</td>\n",
       "      <td>0</td>\n",
       "    </tr>\n",
       "  </tbody>\n",
       "</table>\n",
       "<p>1 rows × 30 columns</p>\n",
       "</div>"
      ],
      "text/plain": [
       "      год время_года                      климат  город страна  \\\n",
       "340  2012       Зима  Субтропическое высокогорье  Шимла  Индия   \n",
       "\n",
       "    способ_охлаждения режим_при_смешанном_типе_охлаждения  \\\n",
       "340         Смешанный                   Кондиционирование   \n",
       "\n",
       "            способ_обогрева  возраст      пол  ...  скорость_воздуха   рост  \\\n",
       "340  Механическое отопление     25.0  Женский  ...              0.04  134.6   \n",
       "\n",
       "      вес  занавески вентилятор   окно  двери  отопление  \\\n",
       "340  43.0       True       True  False   True       True   \n",
       "\n",
       "     среднемесячная_температура_на_улице  количество_рекламаций  \n",
       "340                                  8.5                      0  \n",
       "\n",
       "[1 rows x 30 columns]"
      ]
     },
     "execution_count": 680,
     "metadata": {},
     "output_type": "execute_result"
    }
   ],
   "source": [
    "df['рост'] = df['рост'].apply(lambda x: np.nan if x < 10 else x)\n",
    "boxplot_chart(df, ['рост'])\n",
    "df.query('рост < 140')"
   ]
  },
  {
   "cell_type": "markdown",
   "id": "ef59b0fc-ad9c-4908-adff-df5b471e2db1",
   "metadata": {},
   "source": [
    "У нас остался один предполагаемый выброс. Мы не можем его таким считать, так как это возможно особенность человека."
   ]
  },
  {
   "cell_type": "code",
   "execution_count": 683,
   "id": "ca1c31a7-c8e6-436f-b24b-60402615ef94",
   "metadata": {},
   "outputs": [
    {
     "data": {
      "text/html": [
       "<div>\n",
       "<style scoped>\n",
       "    .dataframe tbody tr th:only-of-type {\n",
       "        vertical-align: middle;\n",
       "    }\n",
       "\n",
       "    .dataframe tbody tr th {\n",
       "        vertical-align: top;\n",
       "    }\n",
       "\n",
       "    .dataframe thead th {\n",
       "        text-align: right;\n",
       "    }\n",
       "</style>\n",
       "<table border=\"1\" class=\"dataframe\">\n",
       "  <thead>\n",
       "    <tr style=\"text-align: right;\">\n",
       "      <th></th>\n",
       "      <th>климат</th>\n",
       "      <th>время_года</th>\n",
       "      <th>страна</th>\n",
       "      <th>город</th>\n",
       "      <th>ощущение_температуры</th>\n",
       "      <th>температура_воздуха_на_улице</th>\n",
       "      <th>температура_воздуха_в_помещении</th>\n",
       "      <th>среднемесячная_температура_на_улице</th>\n",
       "    </tr>\n",
       "  </thead>\n",
       "  <tbody>\n",
       "    <tr>\n",
       "      <th>1</th>\n",
       "      <td>Cубтропический океанический</td>\n",
       "      <td>Лето</td>\n",
       "      <td>США</td>\n",
       "      <td>Техас</td>\n",
       "      <td>-2.0</td>\n",
       "      <td>23.7</td>\n",
       "      <td>23.777778</td>\n",
       "      <td>84.0</td>\n",
       "    </tr>\n",
       "    <tr>\n",
       "      <th>14</th>\n",
       "      <td>Cубтропический океанический</td>\n",
       "      <td>Лето</td>\n",
       "      <td>США</td>\n",
       "      <td>Техас</td>\n",
       "      <td>-1.5</td>\n",
       "      <td>23.0</td>\n",
       "      <td>23.200000</td>\n",
       "      <td>84.0</td>\n",
       "    </tr>\n",
       "    <tr>\n",
       "      <th>44</th>\n",
       "      <td>Cубтропический океанический</td>\n",
       "      <td>Лето</td>\n",
       "      <td>США</td>\n",
       "      <td>Техас</td>\n",
       "      <td>-2.0</td>\n",
       "      <td>23.9</td>\n",
       "      <td>24.000000</td>\n",
       "      <td>84.0</td>\n",
       "    </tr>\n",
       "    <tr>\n",
       "      <th>67</th>\n",
       "      <td>Cубтропический океанический</td>\n",
       "      <td>Лето</td>\n",
       "      <td>США</td>\n",
       "      <td>Техас</td>\n",
       "      <td>-0.5</td>\n",
       "      <td>23.8</td>\n",
       "      <td>23.833333</td>\n",
       "      <td>84.0</td>\n",
       "    </tr>\n",
       "    <tr>\n",
       "      <th>34</th>\n",
       "      <td>Cубтропический океанический</td>\n",
       "      <td>Лето</td>\n",
       "      <td>США</td>\n",
       "      <td>Техас</td>\n",
       "      <td>2.0</td>\n",
       "      <td>24.1</td>\n",
       "      <td>24.300000</td>\n",
       "      <td>89.0</td>\n",
       "    </tr>\n",
       "    <tr>\n",
       "      <th>39</th>\n",
       "      <td>Cубтропический океанический</td>\n",
       "      <td>Лето</td>\n",
       "      <td>США</td>\n",
       "      <td>Техас</td>\n",
       "      <td>2.0</td>\n",
       "      <td>24.4</td>\n",
       "      <td>24.400000</td>\n",
       "      <td>89.0</td>\n",
       "    </tr>\n",
       "    <tr>\n",
       "      <th>20</th>\n",
       "      <td>Cубтропический океанический</td>\n",
       "      <td>Лето</td>\n",
       "      <td>США</td>\n",
       "      <td>Техас</td>\n",
       "      <td>0.0</td>\n",
       "      <td>23.6</td>\n",
       "      <td>23.600000</td>\n",
       "      <td>91.0</td>\n",
       "    </tr>\n",
       "    <tr>\n",
       "      <th>28</th>\n",
       "      <td>Cубтропический океанический</td>\n",
       "      <td>Лето</td>\n",
       "      <td>США</td>\n",
       "      <td>Техас</td>\n",
       "      <td>-0.5</td>\n",
       "      <td>24.6</td>\n",
       "      <td>23.900000</td>\n",
       "      <td>91.0</td>\n",
       "    </tr>\n",
       "    <tr>\n",
       "      <th>30</th>\n",
       "      <td>Cубтропический океанический</td>\n",
       "      <td>Лето</td>\n",
       "      <td>США</td>\n",
       "      <td>Техас</td>\n",
       "      <td>-1.3</td>\n",
       "      <td>24.2</td>\n",
       "      <td>24.300000</td>\n",
       "      <td>91.0</td>\n",
       "    </tr>\n",
       "    <tr>\n",
       "      <th>68</th>\n",
       "      <td>Cубтропический океанический</td>\n",
       "      <td>Лето</td>\n",
       "      <td>США</td>\n",
       "      <td>Техас</td>\n",
       "      <td>1.5</td>\n",
       "      <td>25.9</td>\n",
       "      <td>26.000000</td>\n",
       "      <td>91.0</td>\n",
       "    </tr>\n",
       "    <tr>\n",
       "      <th>81</th>\n",
       "      <td>Cубтропический океанический</td>\n",
       "      <td>Лето</td>\n",
       "      <td>Австралия</td>\n",
       "      <td>Сидней</td>\n",
       "      <td>2.0</td>\n",
       "      <td>NaN</td>\n",
       "      <td>24.800000</td>\n",
       "      <td>220.0</td>\n",
       "    </tr>\n",
       "    <tr>\n",
       "      <th>11</th>\n",
       "      <td>Cубтропический океанический</td>\n",
       "      <td>Лето</td>\n",
       "      <td>США</td>\n",
       "      <td>Техас</td>\n",
       "      <td>-0.5</td>\n",
       "      <td>24.1</td>\n",
       "      <td>23.700000</td>\n",
       "      <td>328.0</td>\n",
       "    </tr>\n",
       "  </tbody>\n",
       "</table>\n",
       "</div>"
      ],
      "text/plain": [
       "                         климат время_года     страна   город  \\\n",
       "1   Cубтропический океанический       Лето        США   Техас   \n",
       "14  Cубтропический океанический       Лето        США   Техас   \n",
       "44  Cубтропический океанический       Лето        США   Техас   \n",
       "67  Cубтропический океанический       Лето        США   Техас   \n",
       "34  Cубтропический океанический       Лето        США   Техас   \n",
       "39  Cубтропический океанический       Лето        США   Техас   \n",
       "20  Cубтропический океанический       Лето        США   Техас   \n",
       "28  Cубтропический океанический       Лето        США   Техас   \n",
       "30  Cубтропический океанический       Лето        США   Техас   \n",
       "68  Cубтропический океанический       Лето        США   Техас   \n",
       "81  Cубтропический океанический       Лето  Австралия  Сидней   \n",
       "11  Cубтропический океанический       Лето        США   Техас   \n",
       "\n",
       "    ощущение_температуры  температура_воздуха_на_улице  \\\n",
       "1                   -2.0                          23.7   \n",
       "14                  -1.5                          23.0   \n",
       "44                  -2.0                          23.9   \n",
       "67                  -0.5                          23.8   \n",
       "34                   2.0                          24.1   \n",
       "39                   2.0                          24.4   \n",
       "20                   0.0                          23.6   \n",
       "28                  -0.5                          24.6   \n",
       "30                  -1.3                          24.2   \n",
       "68                   1.5                          25.9   \n",
       "81                   2.0                           NaN   \n",
       "11                  -0.5                          24.1   \n",
       "\n",
       "    температура_воздуха_в_помещении  среднемесячная_температура_на_улице  \n",
       "1                         23.777778                                 84.0  \n",
       "14                        23.200000                                 84.0  \n",
       "44                        24.000000                                 84.0  \n",
       "67                        23.833333                                 84.0  \n",
       "34                        24.300000                                 89.0  \n",
       "39                        24.400000                                 89.0  \n",
       "20                        23.600000                                 91.0  \n",
       "28                        23.900000                                 91.0  \n",
       "30                        24.300000                                 91.0  \n",
       "68                        26.000000                                 91.0  \n",
       "81                        24.800000                                220.0  \n",
       "11                        23.700000                                328.0  "
      ]
     },
     "execution_count": 683,
     "metadata": {},
     "output_type": "execute_result"
    }
   ],
   "source": [
    "df.query(f'среднемесячная_температура_на_улице > {df[\"среднемесячная_температура_на_улице\"].quantile(0.95)}')[['климат', 'время_года', 'страна', 'город', 'ощущение_температуры', \n",
    "                                                                                                               'температура_воздуха_на_улице', 'температура_воздуха_в_помещении',\n",
    "                                                                                                               'среднемесячная_температура_на_улице']].sort_values(by='среднемесячная_температура_на_улице')"
   ]
  },
  {
   "cell_type": "markdown",
   "id": "29cf3524-a852-49ea-858a-f4a999daf5e2",
   "metadata": {},
   "source": [
    "США - там температура измеряется в Фаренгейтах. Воспользуемся формулой перевода в Цельсии для таких выбросов."
   ]
  },
  {
   "cell_type": "code",
   "execution_count": 686,
   "id": "b54d2cd4-bfca-4c37-bd3d-e4b628bf60d5",
   "metadata": {},
   "outputs": [
    {
     "data": {
      "image/png": "[encoded data removed]",
      "text/plain": [
       "<Figure size 640x480 with 1 Axes>"
      ]
     },
     "metadata": {},
     "output_type": "display_data"
    }
   ],
   "source": [
    "df['среднемесячная_температура_на_улице'] = df['среднемесячная_температура_на_улице'].apply(lambda x: x if x < df[\"среднемесячная_температура_на_улице\"].quantile(0.95) else ((5 / 9) * (x - 32)))\n",
    "df['среднемесячная_температура_на_улице'].describe()\n",
    "boxplot_chart(df, ['среднемесячная_температура_на_улице'])"
   ]
  },
  {
   "cell_type": "markdown",
   "id": "18174805-4198-47cf-bc33-fae5c7fd1a37",
   "metadata": {},
   "source": [
    "Оставшиеся выбросы заменим на NaN для последующей замены на этапе заполнения пропусков"
   ]
  },
  {
   "cell_type": "code",
   "execution_count": 689,
   "id": "718c0823-e0dd-4eeb-ad85-9f97650f828a",
   "metadata": {},
   "outputs": [
    {
     "data": {
      "text/plain": [
       "count    482.000000\n",
       "mean      24.035731\n",
       "std        6.630709\n",
       "min        3.388889\n",
       "25%       22.000000\n",
       "50%       22.000000\n",
       "75%       29.900000\n",
       "max       32.800000\n",
       "Name: среднемесячная_температура_на_улице, dtype: float64"
      ]
     },
     "execution_count": 689,
     "metadata": {},
     "output_type": "execute_result"
    }
   ],
   "source": [
    "df['среднемесячная_температура_на_улице'] = df['среднемесячная_температура_на_улице'].apply(lambda x: x if x < 100 else np.nan)\n",
    "df['среднемесячная_температура_на_улице'].describe()"
   ]
  },
  {
   "cell_type": "markdown",
   "id": "0f91daf1-dee0-44ba-a5f3-40e0bcbd7326",
   "metadata": {},
   "source": [
    "Выявим и заменим неявные дубликаты"
   ]
  },
  {
   "cell_type": "code",
   "execution_count": 692,
   "id": "79fa6c6a-a1f5-41aa-af64-26e1e2966b89",
   "metadata": {
    "scrolled": true
   },
   "outputs": [
    {
     "data": {
      "text/html": [
       "<div>\n",
       "<style scoped>\n",
       "    .dataframe tbody tr th:only-of-type {\n",
       "        vertical-align: middle;\n",
       "    }\n",
       "\n",
       "    .dataframe tbody tr th {\n",
       "        vertical-align: top;\n",
       "    }\n",
       "\n",
       "    .dataframe thead th {\n",
       "        text-align: right;\n",
       "    }\n",
       "</style>\n",
       "<table border=\"1\" class=\"dataframe\">\n",
       "  <thead>\n",
       "    <tr style=\"text-align: right;\">\n",
       "      <th></th>\n",
       "      <th>год</th>\n",
       "      <th>время_года</th>\n",
       "      <th>климат</th>\n",
       "      <th>город</th>\n",
       "      <th>страна</th>\n",
       "      <th>способ_охлаждения</th>\n",
       "      <th>режим_при_смешанном_типе_охлаждения</th>\n",
       "      <th>способ_обогрева</th>\n",
       "      <th>возраст</th>\n",
       "      <th>пол</th>\n",
       "      <th>...</th>\n",
       "      <th>скорость_воздуха</th>\n",
       "      <th>рост</th>\n",
       "      <th>вес</th>\n",
       "      <th>занавески</th>\n",
       "      <th>вентилятор</th>\n",
       "      <th>окно</th>\n",
       "      <th>двери</th>\n",
       "      <th>отопление</th>\n",
       "      <th>среднемесячная_температура_на_улице</th>\n",
       "      <th>количество_рекламаций</th>\n",
       "    </tr>\n",
       "  </thead>\n",
       "  <tbody>\n",
       "    <tr>\n",
       "      <th>482</th>\n",
       "      <td>2012</td>\n",
       "      <td>Зима</td>\n",
       "      <td>Жаркий полузасушливый</td>\n",
       "      <td>Хайдарабад</td>\n",
       "      <td>Индия</td>\n",
       "      <td>Смешанный</td>\n",
       "      <td>Кондиционирование</td>\n",
       "      <td>NaN</td>\n",
       "      <td>NaN</td>\n",
       "      <td>Женский</td>\n",
       "      <td>...</td>\n",
       "      <td>0.02</td>\n",
       "      <td>NaN</td>\n",
       "      <td>76.0</td>\n",
       "      <td>True</td>\n",
       "      <td>True</td>\n",
       "      <td>False</td>\n",
       "      <td>False</td>\n",
       "      <td>True</td>\n",
       "      <td>21.6</td>\n",
       "      <td>0</td>\n",
       "    </tr>\n",
       "    <tr>\n",
       "      <th>483</th>\n",
       "      <td>2012</td>\n",
       "      <td>Зима</td>\n",
       "      <td>Жаркий полузасушливый</td>\n",
       "      <td>Хайдарабад</td>\n",
       "      <td>Индия</td>\n",
       "      <td>Смешанный</td>\n",
       "      <td>Кондиционирование</td>\n",
       "      <td>NaN</td>\n",
       "      <td>NaN</td>\n",
       "      <td>Женский</td>\n",
       "      <td>...</td>\n",
       "      <td>0.02</td>\n",
       "      <td>NaN</td>\n",
       "      <td>76.0</td>\n",
       "      <td>True</td>\n",
       "      <td>True</td>\n",
       "      <td>False</td>\n",
       "      <td>False</td>\n",
       "      <td>True</td>\n",
       "      <td>21.6</td>\n",
       "      <td>0</td>\n",
       "    </tr>\n",
       "  </tbody>\n",
       "</table>\n",
       "<p>2 rows × 30 columns</p>\n",
       "</div>"
      ],
      "text/plain": [
       "      год время_года                 климат       город страна  \\\n",
       "482  2012       Зима  Жаркий полузасушливый  Хайдарабад  Индия   \n",
       "483  2012       Зима  Жаркий полузасушливый  Хайдарабад  Индия   \n",
       "\n",
       "    способ_охлаждения режим_при_смешанном_типе_охлаждения способ_обогрева  \\\n",
       "482         Смешанный                   Кондиционирование             NaN   \n",
       "483         Смешанный                   Кондиционирование             NaN   \n",
       "\n",
       "     возраст      пол  ...  скорость_воздуха  рост   вес  занавески  \\\n",
       "482      NaN  Женский  ...              0.02   NaN  76.0       True   \n",
       "483      NaN  Женский  ...              0.02   NaN  76.0       True   \n",
       "\n",
       "    вентилятор   окно  двери  отопление  среднемесячная_температура_на_улице  \\\n",
       "482       True  False  False       True                                 21.6   \n",
       "483       True  False  False       True                                 21.6   \n",
       "\n",
       "     количество_рекламаций  \n",
       "482                      0  \n",
       "483                      0  \n",
       "\n",
       "[2 rows x 30 columns]"
      ]
     },
     "execution_count": 692,
     "metadata": {},
     "output_type": "execute_result"
    }
   ],
   "source": [
    "duplicates = df[df.duplicated()]\n",
    "duplicates"
   ]
  },
  {
   "cell_type": "code",
   "execution_count": 694,
   "id": "15443fd5-fcdd-4d75-b742-c98dc827899b",
   "metadata": {},
   "outputs": [],
   "source": [
    "df = df.drop_duplicates()"
   ]
  },
  {
   "cell_type": "code",
   "execution_count": 696,
   "id": "4defa8e1-0546-4898-a721-61c7c9fc5b66",
   "metadata": {},
   "outputs": [
    {
     "name": "stdout",
     "output_type": "stream",
     "text": [
      "время_года ['Лето' 'Зима' 'Весна' 'Осень']\n",
      "климат ['Cубтропический океанический' 'Cубтроп океанич'\n",
      " 'Субтропическое высокогорье' 'Жаркий полузасушливый'\n",
      " 'Тропическая влажная саванна' 'Влажный субтропический муссонный']\n",
      "город ['Техас' 'Сидней' 'Шимла' 'Хайдарабад' 'Бангалор' 'Ахмедабад' 'Ченнай'\n",
      " 'Дели']\n",
      "страна ['США' 'Австралия' 'Индия']\n",
      "способ_охлаждения ['Кондиционирование' 'Смешанный' 'Вентиляция']\n",
      "режим_при_смешанном_типе_охлаждения [nan 'Кондиционирование' 'Вентиляция']\n",
      "способ_обогрева [nan 'Механическое отопление']\n",
      "пол [nan 'Женский' 'Мужской']\n",
      "предпочтительное_изменение_температуры ['Без изменений' 'Теплее' 'Холоднее' 'Холодн' 'Тепле']\n",
      "предпочтительное_изменение_движения_воздуха ['Без изменений' 'Меньше' 'Больше']\n"
     ]
    }
   ],
   "source": [
    "for i in df.columns:\n",
    "    if df[i].dtype == 'object':\n",
    "        print(i, df[i].unique())"
   ]
  },
  {
   "cell_type": "code",
   "execution_count": 698,
   "id": "45aea3ff-5631-4eab-809c-3a90fbdcaebc",
   "metadata": {},
   "outputs": [],
   "source": [
    "df['климат'] = df['климат'].map({'Cубтроп океанич': 'Субтропический океанический',\n",
    "                                 'Cубтропический океанический': 'Субтропический океанический'\n",
    "                                }).fillna(df['климат'])"
   ]
  },
  {
   "cell_type": "code",
   "execution_count": 700,
   "id": "281d4aac-6247-4411-8a91-1a697ee32d62",
   "metadata": {},
   "outputs": [
    {
     "data": {
      "text/plain": [
       "array(['Субтропический океанический', 'Субтропическое высокогорье',\n",
       "       'Жаркий полузасушливый', 'Тропическая влажная саванна',\n",
       "       'Влажный субтропический муссонный'], dtype=object)"
      ]
     },
     "execution_count": 700,
     "metadata": {},
     "output_type": "execute_result"
    }
   ],
   "source": [
    "df['климат'].unique()"
   ]
  },
  {
   "cell_type": "code",
   "execution_count": 702,
   "id": "2d4afc7f-81ce-49bf-b6aa-f686f5da7290",
   "metadata": {},
   "outputs": [],
   "source": [
    "df['предпочтительное_изменение_температуры'] = df['предпочтительное_изменение_температуры'].map({'Холодн': 'Холоднее',\n",
    "                                                                                                'Тепле': 'Теплее'}).fillna(df['предпочтительное_изменение_температуры'])\n"
   ]
  },
  {
   "cell_type": "code",
   "execution_count": 704,
   "id": "6f733f2d-c93c-4cc8-91ce-8eb6d2cbc1b5",
   "metadata": {},
   "outputs": [
    {
     "data": {
      "text/plain": [
       "array(['Без изменений', 'Теплее', 'Холоднее'], dtype=object)"
      ]
     },
     "execution_count": 704,
     "metadata": {},
     "output_type": "execute_result"
    }
   ],
   "source": [
    "df['предпочтительное_изменение_температуры'].unique()"
   ]
  },
  {
   "cell_type": "code",
   "execution_count": 706,
   "id": "5c40e672-85f1-4b3b-bcf8-f563d5bf102e",
   "metadata": {},
   "outputs": [
    {
     "name": "stdout",
     "output_type": "stream",
     "text": [
      "возраст\n",
      "\n",
      "США      \t Кол-во не пустых значений: 72  \t Кол-во Nan: 0\n",
      "Австралия \t Кол-во не пустых значений: 198 \t Кол-во Nan: 0\n",
      "Индия    \t Кол-во не пустых значений: 143 \t Кол-во Nan: 69\n",
      "\n",
      "пол\n",
      "\n",
      "США      \t Кол-во не пустых значений: 0   \t Кол-во Nan: 72\n",
      "Австралия \t Кол-во не пустых значений: 198 \t Кол-во Nan: 0\n",
      "Индия    \t Кол-во не пустых значений: 212 \t Кол-во Nan: 0\n",
      "\n",
      "рост\n",
      "\n",
      "США      \t Кол-во не пустых значений: 0   \t Кол-во Nan: 72\n",
      "Австралия \t Кол-во не пустых значений: 0   \t Кол-во Nan: 198\n",
      "Индия    \t Кол-во не пустых значений: 141 \t Кол-во Nan: 71\n",
      "\n",
      "вес\n",
      "\n",
      "США      \t Кол-во не пустых значений: 0   \t Кол-во Nan: 72\n",
      "Австралия \t Кол-во не пустых значений: 0   \t Кол-во Nan: 198\n",
      "Индия    \t Кол-во не пустых значений: 212 \t Кол-во Nan: 0\n",
      "\n",
      "оценка_комфорта\n",
      "\n",
      "США      \t Кол-во не пустых значений: 72  \t Кол-во Nan: 0\n",
      "Австралия \t Кол-во не пустых значений: 0   \t Кол-во Nan: 198\n",
      "Индия    \t Кол-во не пустых значений: 143 \t Кол-во Nan: 69\n",
      "\n"
     ]
    }
   ],
   "source": [
    "# Заполнение пропусков \n",
    "\"\"\" Оно требуется в столбцах возраст ( 71 пропуск ), пол ( 72 пропуска ), \n",
    "                             рост ( 341 пропуск ) , вес ( 270 пропусков )  оценка_комфорта ( 269 пропусков )\"\"\"\n",
    "\n",
    "# В других столбцах где присутствуют пропуски заполнение точно не требуется\n",
    "\n",
    "# для начали проанализируем данные столбцы по странам\n",
    "for col in ['возраст', 'пол', 'рост', 'вес', 'оценка_комфорта']:\n",
    "    print(col)\n",
    "    print()\n",
    "    for cntr in df['страна'].unique():\n",
    "        print(cntr.ljust(8), '\\t', \n",
    "              'Кол-во не пустых значений:', str(df[(df['страна'] == cntr) & (df[col].notna())].shape[0]).ljust(3), '\\t',\n",
    "              'Кол-во Nan:', df[(df['страна'] == cntr) & (df[col].isna())].shape[0])\n",
    "    print()"
   ]
  },
  {
   "cell_type": "code",
   "execution_count": 708,
   "id": "7dc4ec6c",
   "metadata": {},
   "outputs": [],
   "source": [
    "# Заметим, что пустые значения только у страны США, в других заполненны, так что просто напишем что не определенно\n",
    "df['пол'] = df['пол'].fillna('Не определен')\n",
    "\n",
    "# Возраст — медиана по полу и по странам (можно заметить что все 71 пропуск из страны Индии\"\"\"\n",
    "df['возраст'] = df.groupby(['пол', 'страна'])['возраст'].transform(lambda x: x.fillna(x.median()))\n",
    "\n",
    "# Рост - заметим что у страны США и Австралия не заполненно, так что оставим как Не определен\n",
    "# А вот у Индии заполним по полу средним значением\n",
    "mn_india_hght = df[df['страна'] == 'Индия'].groupby('пол')['рост'].mean()\n",
    "\n",
    "df['рост'] = df.apply(\n",
    "    lambda x: (mn_india_hght[x['пол']] if pd.isna(x['рост']) and x['страна'] == 'Индия' \n",
    "               else ('Не определен' if pd.isna(x['рост']) else x['рост'])), axis=1)\n",
    "\n",
    "# Видим, что у столбца вес страны США и Австралии отсутвуют заполненные значения, так что просто заполним как Не определен\n",
    "df['вес'] = df['вес'].fillna('Не определен')\n",
    "\n",
    "# Видим, что у оценки комфорта аналогичная ситуация как и у роста, однако заполненны значения у страны США\n",
    "# У Индии заполним по времени года и способу охдаждения средним значением, у страны Австралия оставим не определенно\n",
    "mn_india_cmfrt = df[df['страна'] == 'Индия'].groupby(['время_года', 'способ_охлаждения'])['оценка_комфорта'].mean()\n",
    "df['оценка_комфорта'] = df.apply(lambda x: (\n",
    "        mn_india_cmfrt.get((x['время_года'], x['способ_охлаждения']), x['оценка_комфорта'])\n",
    "        if pd.isna(x['оценка_комфорта']) and x['страна'] == 'Индия'\n",
    "        else x['оценка_комфорта']), axis=1)\n",
    "df['оценка_комфорта'] = df['оценка_комфорта'].fillna('Не определен')\n",
    "\n",
    "# Также заполним пропуски 'среднемесячная_температура_на_улице' после удаления выбросов - средним по климату\n",
    "df['среднемесячная_температура_на_улице'] = df.groupby('климат')['среднемесячная_температура_на_улице'].transform(\n",
    "    lambda x: x.fillna(x.mean()))"
   ]
  },
  {
   "cell_type": "code",
   "execution_count": 710,
   "id": "faad6c8c",
   "metadata": {
    "scrolled": true
   },
   "outputs": [
    {
     "name": "stdout",
     "output_type": "stream",
     "text": [
      "0 0 0 0 0 0 "
     ]
    }
   ],
   "source": [
    "# Видим что пропусков больше нет\n",
    "for col in ['пол', 'возраст', 'оценка_комфорта', 'рост', 'вес', 'среднемесячная_температура_на_улице']:\n",
    "    print(df[col].isna().sum(), end=' ')"
   ]
  },
  {
   "cell_type": "markdown",
   "id": "050f0929-853b-41ee-b3e7-2d283cc20b48",
   "metadata": {},
   "source": [
    "+ Создать дополнительный категориальный столбец, который покажет количество рекламаций по каждому клиенту отдельно: мало (≤1), средне (=2), много (>2).\n",
    "+ Рассчитать средний возраст респондентов по полу и стране\n",
    "+ Добавить категориальный столбец, разделив респондентов на три категории по возрасту: до 44 лет - молодой возраст, 45 - 59 лет - средний возраст, 60 лет и больше - пожилой возраст.\n",
    "+ Рассчитать среднюю комфортную температуру в зависимости от возрастной категории\n",
    "+ Рассчитать медианное значение температуры и влажности для каждого типа охлаждения\n",
    "+ Добавить столбец с процентом удовлетворенных респондентов температурой воздуха в помещении относительно всех респондентов одной страны и одного пола"
   ]
  },
  {
   "cell_type": "code",
   "execution_count": 713,
   "id": "38d6569e-4ff9-49c3-b443-fc8a19394b21",
   "metadata": {},
   "outputs": [],
   "source": [
    "def kolvo_complaints_cat(kolvo):\n",
    "    if kolvo <= 1:\n",
    "        return 'мало'\n",
    "    elif kolvo == 2:\n",
    "        return 'средне'\n",
    "    return 'много'"
   ]
  },
  {
   "cell_type": "code",
   "execution_count": 715,
   "id": "6bf782b8-5fd3-43e0-b276-444329ed3364",
   "metadata": {},
   "outputs": [],
   "source": [
    "# создаем дополнительный категориальный столбец, который покажет количество рекламаций по каждому клиенту\n",
    "df['колво_рекламаций_катег'] = df['количество_рекламаций'].apply(kolvo_complaints_cat)\n",
    "# рассчитываем средний возраст респондентов по полу и стране\n",
    "average_age_groupby_gender_country = df.groupby(['пол', 'страна'])['возраст'].mean()"
   ]
  },
  {
   "cell_type": "code",
   "execution_count": 717,
   "id": "d46e65e6-0927-4766-acdb-c3a5b5c2a006",
   "metadata": {},
   "outputs": [
    {
     "data": {
      "text/plain": [
       "пол           страна   \n",
       "Женский       Австралия    46.348315\n",
       "              Индия        36.044776\n",
       "Мужской       Австралия    42.614679\n",
       "              Индия        37.275862\n",
       "Не определен  США          36.208333\n",
       "Name: возраст, dtype: float64"
      ]
     },
     "execution_count": 717,
     "metadata": {},
     "output_type": "execute_result"
    }
   ],
   "source": [
    "average_age_groupby_gender_country"
   ]
  },
  {
   "cell_type": "code",
   "execution_count": 719,
   "id": "05b049e7-5abb-49b3-8985-7a4eb280e968",
   "metadata": {},
   "outputs": [],
   "source": [
    "# рассчитаем медианное значение температуры и влажности для каждого типа охлаждения\n",
    "median_temp_humidity_for_type_of_cooling = df.groupby('способ_охлаждения')[['температура_воздуха_в_помещении', 'rh']].median()"
   ]
  },
  {
   "cell_type": "code",
   "execution_count": 721,
   "id": "8cd80369-0dab-43c8-b441-eac24e28d037",
   "metadata": {},
   "outputs": [
    {
     "data": {
      "text/html": [
       "<div>\n",
       "<style scoped>\n",
       "    .dataframe tbody tr th:only-of-type {\n",
       "        vertical-align: middle;\n",
       "    }\n",
       "\n",
       "    .dataframe tbody tr th {\n",
       "        vertical-align: top;\n",
       "    }\n",
       "\n",
       "    .dataframe thead th {\n",
       "        text-align: right;\n",
       "    }\n",
       "</style>\n",
       "<table border=\"1\" class=\"dataframe\">\n",
       "  <thead>\n",
       "    <tr style=\"text-align: right;\">\n",
       "      <th></th>\n",
       "      <th>температура_воздуха_в_помещении</th>\n",
       "      <th>rh</th>\n",
       "    </tr>\n",
       "    <tr>\n",
       "      <th>способ_охлаждения</th>\n",
       "      <th></th>\n",
       "      <th></th>\n",
       "    </tr>\n",
       "  </thead>\n",
       "  <tbody>\n",
       "    <tr>\n",
       "      <th>Вентиляция</th>\n",
       "      <td>25.300000</td>\n",
       "      <td>46.30</td>\n",
       "    </tr>\n",
       "    <tr>\n",
       "      <th>Кондиционирование</th>\n",
       "      <td>24.277778</td>\n",
       "      <td>42.45</td>\n",
       "    </tr>\n",
       "    <tr>\n",
       "      <th>Смешанный</th>\n",
       "      <td>24.600000</td>\n",
       "      <td>56.50</td>\n",
       "    </tr>\n",
       "  </tbody>\n",
       "</table>\n",
       "</div>"
      ],
      "text/plain": [
       "                   температура_воздуха_в_помещении     rh\n",
       "способ_охлаждения                                        \n",
       "Вентиляция                               25.300000  46.30\n",
       "Кондиционирование                        24.277778  42.45\n",
       "Смешанный                                24.600000  56.50"
      ]
     },
     "execution_count": 721,
     "metadata": {},
     "output_type": "execute_result"
    }
   ],
   "source": [
    "median_temp_humidity_for_type_of_cooling"
   ]
  },
  {
   "cell_type": "code",
   "execution_count": 723,
   "id": "88055907-5e8a-4248-aee3-891815aa9f67",
   "metadata": {},
   "outputs": [],
   "source": [
    "# добавление нового столбца который категоризирует возраст\n",
    "df['возраст_кат'] = df['возраст'].apply(lambda x: 'молодой_возраст' if x <= 30 else 'средний_возраст' if x <= 59 else 'пожилой_возраст')\n",
    "# рассчитаем среднюю комфортную температуру в зависимости от возрастной категории\n",
    "average_comfortable_temp_groupby_agecat = df[df['ощущение_температуры_bool'] == 1].groupby(['возраст_кат'])['температура_воздуха_в_помещении'].mean()"
   ]
  },
  {
   "cell_type": "code",
   "execution_count": 725,
   "id": "78d2f206-b931-4194-8710-a0665a30b74a",
   "metadata": {},
   "outputs": [
    {
     "data": {
      "text/plain": [
       "возраст_кат\n",
       "молодой_возраст    24.889828\n",
       "пожилой_возраст    25.400000\n",
       "средний_возраст    24.721000\n",
       "Name: температура_воздуха_в_помещении, dtype: float64"
      ]
     },
     "execution_count": 725,
     "metadata": {},
     "output_type": "execute_result"
    }
   ],
   "source": [
    "average_comfortable_temp_groupby_agecat"
   ]
  },
  {
   "cell_type": "code",
   "execution_count": 142,
   "id": "e9c6024b-f3ae-409f-8bf1-da66871bc397",
   "metadata": {},
   "outputs": [],
   "source": [
    "# 1. Считаем общее количество респондентов по стране и полу\n",
    "total_counts = df.groupby(['страна', 'пол']).size().rename('общее')\n",
    "\n",
    "# 2. Считаем количество удовлетворённых респондентов\n",
    "satisfied_counts = df[df['ощущение_температуры_bool'] == 1].groupby(['страна', 'пол']).size().rename('удовлетворенные')\n",
    "\n",
    "# 3. Объединяем оба результата\n",
    "satisfaction_df = pd.concat([total_counts, satisfied_counts], axis=1).fillna(0)\n",
    "\n",
    "# 4. Считаем процент\n",
    "satisfaction_df['percent_satisfied'] = (satisfaction_df['удовлетворенные'] / satisfaction_df['общее']).mul(100).round(1)\n",
    "\n",
    "# 5. Объединяем обратно с исходным df (через merge по стране и полу)\n",
    "df = df.merge(satisfaction_df['percent_satisfied'], on=['страна', 'пол'])"
   ]
  },
  {
   "cell_type": "markdown",
   "id": "e882ad8d-2dbd-4de9-8bd6-8c418a77b61c",
   "metadata": {},
   "source": [
    "Самостоятельно найти информацию по стандартной комфортной относительной влажности в помещениях (в нашем случае - офисы).\n",
    "Создать новый категориальный столбец, в котором будет показано, удовлетворяет ли зафиксированная относительная влажность стандарту или нет. Категории назначить самостоятельно."
   ]
  },
  {
   "cell_type": "code",
   "execution_count": 147,
   "id": "fc353aa1-bd46-4f7a-9ba0-e6fd4a396dd6",
   "metadata": {},
   "outputs": [
    {
     "name": "stdout",
     "output_type": "stream",
     "text": [
      "категория_влажности\n",
      "комфортная_влажность    321\n",
      "высокая_влажность       149\n",
      "низкая_влажность         12\n",
      "Name: count, dtype: int64\n"
     ]
    }
   ],
   "source": [
    "\"\"\" Согласно международным рекомендациям:\n",
    "ASHRAE (Американское общество инженеров по отоплению, охлаждению и кондиционированию воздуха):\n",
    "Рекомендуемая относительная влажность в помещениях (включая офисы) — от 30% до 60%.\n",
    "Комфортный диапазон — 40–60%. \"\"\"\n",
    "\n",
    "def cat_hum(rh):\n",
    "    if rh < 30:\n",
    "        return 'низкая_влажность'\n",
    "    elif 30 <= rh <= 60:\n",
    "        return 'комфортная_влажность'\n",
    "    return 'высокая_влажность'\n",
    "\n",
    "# Применим к столбцу 'rh' (относительная влажность)\n",
    "df['категория_влажности'] = df['rh'].apply(cat_hum)\n",
    "\n",
    "# Проверим результат\n",
    "print(df['категория_влажности'].value_counts())"
   ]
  },
  {
   "cell_type": "code",
   "execution_count": null,
   "id": "279c12a8-18ed-42fa-980c-f122eb418011",
   "metadata": {},
   "outputs": [],
   "source": [
    "Хотелось бы посмотреть оценку комфорта по категории влажности, по странам и сезонам"
   ]
  },
  {
   "cell_type": "code",
   "execution_count": 149,
   "id": "bafcba0a-4876-4c94-a691-4667010693fd",
   "metadata": {},
   "outputs": [
    {
     "data": {
      "image/png": "[encoded data removed]",
      "text/plain": [
       "<Figure size 896.736x500 with 2 Axes>"
      ]
     },
     "metadata": {},
     "output_type": "display_data"
    }
   ],
   "source": [
    "# Фильтруем датафрейм, убираем значения с временами года Весна и Лето, также убираем страну Австралия, так как по ним нет информации\n",
    "df_filt = df[(df['время_года'] != 'Весна') & (df['время_года'] != 'Осень') & (df['страна'] != 'Австралия')]\n",
    "\n",
    "# Строим boxplot с фасетами по странам\n",
    "g = sns.catplot(\n",
    "    data=df_filt,\n",
    "    x='категория_влажности',\n",
    "    y='оценка_комфорта',\n",
    "    hue='время_года',\n",
    "    col='страна',\n",
    "    kind='bar',\n",
    "    palette='Set2',\n",
    "    height=5,\n",
    "    aspect=0.8\n",
    ")\n",
    "\n",
    "g.set_axis_labels('', 'Оценка комфорта')\n",
    "g.set_titles(\"Страна: {col_name}\")\n",
    "g.fig.suptitle('Оценка комфорта по категории влажности, сезонам и странам', y=1.05)\n",
    "g.legend.set_bbox_to_anchor((1.05, 1))\n",
    "\n",
    "# Повернуть подписи на оси X\n",
    "for ax in g.axes.flat:\n",
    "    ax.tick_params(axis='x', rotation=15)\n",
    "    \n",
    "plt.tight_layout()\n",
    "plt.show()"
   ]
  },
  {
   "cell_type": "markdown",
   "id": "68857fa2-0290-443c-8384-d550b94a70ad",
   "metadata": {},
   "source": [
    "Также хотелось бы посмотреть количество рекламаций (жалоб) по способу охлаждения в разных странах."
   ]
  },
  {
   "cell_type": "code",
   "execution_count": 154,
   "id": "17d28865-7f4b-4cb4-b8bf-1aee70bba874",
   "metadata": {},
   "outputs": [
    {
     "data": {
      "image/png": "[encoded data removed]",
      "text/plain": [
       "<Figure size 1000x500 with 1 Axes>"
      ]
     },
     "metadata": {},
     "output_type": "display_data"
    }
   ],
   "source": [
    "df['страна_город'] = df['страна'] + '\\n(' + df['город'] + ')'\n",
    "\n",
    "# Группировка по стране и способу охлаждения и суммирование жалоб\n",
    "complaints_by_country_method = df.groupby(['страна_город', 'способ_охлаждения'])['количество_рекламаций'].sum().reset_index()\n",
    "\n",
    "# Построение графика\n",
    "plt.figure(figsize=(10, 5))\n",
    "sns.barplot(\n",
    "    data=complaints_by_country_method,\n",
    "    x='страна_город',\n",
    "    y='количество_рекламаций',\n",
    "    hue='способ_охлаждения'\n",
    ")\n",
    "plt.title(\"Количество рекламаций по способу охлаждения в разных странах\")\n",
    "plt.ylabel(\"Количество рекламаций\")\n",
    "plt.xlabel(\"\")\n",
    "plt.tight_layout()\n",
    "plt.show()"
   ]
  }
 ],
 "metadata": {
  "kernelspec": {
   "display_name": "Python [conda env:base] *",
   "language": "python",
   "name": "conda-base-py"
  },
  "language_info": {
   "codemirror_mode": {
    "name": "ipython",
    "version": 3
   },
   "file_extension": ".py",
   "mimetype": "text/x-python",
   "name": "python",
   "nbconvert_exporter": "python",
   "pygments_lexer": "ipython3",
   "version": "3.12.7"
  }
 },
 "nbformat": 4,
 "nbformat_minor": 5
}
